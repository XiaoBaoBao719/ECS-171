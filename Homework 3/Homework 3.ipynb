{
 "cells": [
  {
   "cell_type": "markdown",
   "id": "1987abcb",
   "metadata": {},
   "source": [
    "# Homework 3 - Xiao Bao Bao"
   ]
  },
  {
   "cell_type": "code",
   "execution_count": 1,
   "id": "d51b49fe",
   "metadata": {},
   "outputs": [],
   "source": [
    "# Author - Xiao Bao Bao \n",
    "# ECS 171 Intro to Machine Learning\n",
    "\n",
    "import numpy as np\n",
    "import pandas as pd\n",
    "import matplotlib.pyplot as plt\n",
    "import sys\n",
    "import mpl_toolkits\n",
    "\n",
    "from math import sqrt"
   ]
  },
  {
   "cell_type": "markdown",
   "id": "435e93b2",
   "metadata": {},
   "source": [
    "## Preprocessing"
   ]
  },
  {
   "cell_type": "code",
   "execution_count": 2,
   "id": "065b69aa",
   "metadata": {},
   "outputs": [
    {
     "data": {
      "text/html": [
       "<div>\n",
       "<style scoped>\n",
       "    .dataframe tbody tr th:only-of-type {\n",
       "        vertical-align: middle;\n",
       "    }\n",
       "\n",
       "    .dataframe tbody tr th {\n",
       "        vertical-align: top;\n",
       "    }\n",
       "\n",
       "    .dataframe thead th {\n",
       "        text-align: right;\n",
       "    }\n",
       "</style>\n",
       "<table border=\"1\" class=\"dataframe\">\n",
       "  <thead>\n",
       "    <tr style=\"text-align: right;\">\n",
       "      <th></th>\n",
       "      <th>b15</th>\n",
       "      <th>b14</th>\n",
       "      <th>b13</th>\n",
       "      <th>b12</th>\n",
       "      <th>b11</th>\n",
       "      <th>b10</th>\n",
       "      <th>b9</th>\n",
       "      <th>b8</th>\n",
       "      <th>b7</th>\n",
       "      <th>b6</th>\n",
       "      <th>b5</th>\n",
       "      <th>b4</th>\n",
       "      <th>b3</th>\n",
       "      <th>b2</th>\n",
       "      <th>b1</th>\n",
       "      <th>b0</th>\n",
       "    </tr>\n",
       "  </thead>\n",
       "  <tbody>\n",
       "    <tr>\n",
       "      <th>0</th>\n",
       "      <td>0</td>\n",
       "      <td>0</td>\n",
       "      <td>0</td>\n",
       "      <td>0</td>\n",
       "      <td>0</td>\n",
       "      <td>0</td>\n",
       "      <td>1</td>\n",
       "      <td>1</td>\n",
       "      <td>0</td>\n",
       "      <td>1</td>\n",
       "      <td>1</td>\n",
       "      <td>1</td>\n",
       "      <td>1</td>\n",
       "      <td>1</td>\n",
       "      <td>0</td>\n",
       "      <td>0</td>\n",
       "    </tr>\n",
       "    <tr>\n",
       "      <th>1</th>\n",
       "      <td>0</td>\n",
       "      <td>0</td>\n",
       "      <td>0</td>\n",
       "      <td>0</td>\n",
       "      <td>0</td>\n",
       "      <td>0</td>\n",
       "      <td>1</td>\n",
       "      <td>1</td>\n",
       "      <td>0</td>\n",
       "      <td>0</td>\n",
       "      <td>1</td>\n",
       "      <td>1</td>\n",
       "      <td>1</td>\n",
       "      <td>1</td>\n",
       "      <td>0</td>\n",
       "      <td>0</td>\n",
       "    </tr>\n",
       "    <tr>\n",
       "      <th>2</th>\n",
       "      <td>0</td>\n",
       "      <td>0</td>\n",
       "      <td>0</td>\n",
       "      <td>0</td>\n",
       "      <td>0</td>\n",
       "      <td>0</td>\n",
       "      <td>0</td>\n",
       "      <td>1</td>\n",
       "      <td>0</td>\n",
       "      <td>0</td>\n",
       "      <td>1</td>\n",
       "      <td>1</td>\n",
       "      <td>1</td>\n",
       "      <td>1</td>\n",
       "      <td>0</td>\n",
       "      <td>0</td>\n",
       "    </tr>\n",
       "    <tr>\n",
       "      <th>3</th>\n",
       "      <td>0</td>\n",
       "      <td>0</td>\n",
       "      <td>0</td>\n",
       "      <td>0</td>\n",
       "      <td>0</td>\n",
       "      <td>0</td>\n",
       "      <td>1</td>\n",
       "      <td>1</td>\n",
       "      <td>0</td>\n",
       "      <td>0</td>\n",
       "      <td>1</td>\n",
       "      <td>1</td>\n",
       "      <td>1</td>\n",
       "      <td>1</td>\n",
       "      <td>0</td>\n",
       "      <td>0</td>\n",
       "    </tr>\n",
       "    <tr>\n",
       "      <th>4</th>\n",
       "      <td>0</td>\n",
       "      <td>0</td>\n",
       "      <td>0</td>\n",
       "      <td>0</td>\n",
       "      <td>0</td>\n",
       "      <td>1</td>\n",
       "      <td>1</td>\n",
       "      <td>1</td>\n",
       "      <td>0</td>\n",
       "      <td>0</td>\n",
       "      <td>1</td>\n",
       "      <td>1</td>\n",
       "      <td>1</td>\n",
       "      <td>1</td>\n",
       "      <td>0</td>\n",
       "      <td>0</td>\n",
       "    </tr>\n",
       "  </tbody>\n",
       "</table>\n",
       "</div>"
      ],
      "text/plain": [
       "   b15  b14  b13  b12  b11  b10  b9  b8  b7  b6  b5  b4  b3  b2  b1  b0\n",
       "0    0    0    0    0    0    0   1   1   0   1   1   1   1   1   0   0\n",
       "1    0    0    0    0    0    0   1   1   0   0   1   1   1   1   0   0\n",
       "2    0    0    0    0    0    0   0   1   0   0   1   1   1   1   0   0\n",
       "3    0    0    0    0    0    0   1   1   0   0   1   1   1   1   0   0\n",
       "4    0    0    0    0    0    1   1   1   0   0   1   1   1   1   0   0"
      ]
     },
     "execution_count": 2,
     "metadata": {},
     "output_type": "execute_result"
    }
   ],
   "source": [
    "df = pd.read_csv('bitstrings.csv')\n",
    "df.head()"
   ]
  },
  {
   "cell_type": "code",
   "execution_count": 3,
   "id": "d676dd66",
   "metadata": {
    "scrolled": true
   },
   "outputs": [
    {
     "name": "stdout",
     "output_type": "stream",
     "text": [
      "<class 'pandas.core.frame.DataFrame'>\n",
      "RangeIndex: 1200 entries, 0 to 1199\n",
      "Data columns (total 16 columns):\n",
      " #   Column  Non-Null Count  Dtype\n",
      "---  ------  --------------  -----\n",
      " 0   b15     1200 non-null   int64\n",
      " 1   b14     1200 non-null   int64\n",
      " 2   b13     1200 non-null   int64\n",
      " 3   b12     1200 non-null   int64\n",
      " 4   b11     1200 non-null   int64\n",
      " 5   b10     1200 non-null   int64\n",
      " 6   b9      1200 non-null   int64\n",
      " 7   b8      1200 non-null   int64\n",
      " 8   b7      1200 non-null   int64\n",
      " 9   b6      1200 non-null   int64\n",
      " 10  b5      1200 non-null   int64\n",
      " 11  b4      1200 non-null   int64\n",
      " 12  b3      1200 non-null   int64\n",
      " 13  b2      1200 non-null   int64\n",
      " 14  b1      1200 non-null   int64\n",
      " 15  b0      1200 non-null   int64\n",
      "dtypes: int64(16)\n",
      "memory usage: 150.1 KB\n"
     ]
    }
   ],
   "source": [
    "df.info()"
   ]
  },
  {
   "cell_type": "code",
   "execution_count": 4,
   "id": "fc0dbd59",
   "metadata": {},
   "outputs": [
    {
     "data": {
      "text/plain": [
       "(1200, 16)"
      ]
     },
     "execution_count": 4,
     "metadata": {},
     "output_type": "execute_result"
    }
   ],
   "source": [
    "df.shape"
   ]
  },
  {
   "cell_type": "code",
   "execution_count": 5,
   "id": "e3bacd24",
   "metadata": {},
   "outputs": [],
   "source": [
    "#easier readability\n",
    "X = df[::].to_numpy()"
   ]
  },
  {
   "cell_type": "markdown",
   "id": "2693cfb3",
   "metadata": {},
   "source": [
    "## Agglomerative Clustering"
   ]
  },
  {
   "cell_type": "markdown",
   "id": "5f7ba8d5",
   "metadata": {},
   "source": [
    "### Exercise 1.1 - Choosing Parameters"
   ]
  },
  {
   "cell_type": "markdown",
   "id": "cf4de980",
   "metadata": {},
   "source": [
    "Which linkage rule to use?\n",
    "Which distance function to use?\n",
    "What threshold distance to use?\n",
    "\n",
    "For our application of Agglomerative Clustering on the dataset, we decided to use single linkage rules for hierarchical clustering. This is because each of the points of data are characteristically within a set or sequence of bits through minimum bit equivalence. In other words, bits may be thought of as being equivalent when a single bit flip difference creates a sequence of bitstrings that belong to that set of bitstrings. Therefore, clustering each class by the minimum distance to the next member was the most intuitive motivation. Since the values being parsed are simply ones and zeroes representing discrete values, we decided to pursue manhattan distance metrics since the data was not a continuously normalized distribution. Finally, we know that since the bitstrings and features are again comprised of ones and zeroes, the minimum distance for clustering would need to be one, so any value slightly higher than that value was suitable for the hierarchical clustering problem.\n"
   ]
  },
  {
   "cell_type": "markdown",
   "id": "d2ce44cc",
   "metadata": {},
   "source": [
    "### Exercise 1.2 - Agglomerative Clustering for Equivalence Classes (20 points)"
   ]
  },
  {
   "cell_type": "code",
   "execution_count": 6,
   "id": "1c34599d",
   "metadata": {
    "scrolled": false
   },
   "outputs": [
    {
     "name": "stdout",
     "output_type": "stream",
     "text": [
      "7     296\n",
      "5     194\n",
      "0     193\n",
      "2     187\n",
      "6     100\n",
      "1     100\n",
      "3      99\n",
      "4       3\n",
      "8       3\n",
      "12      2\n",
      "10      2\n",
      "29      1\n",
      "21      1\n",
      "28      1\n",
      "27      1\n",
      "26      1\n",
      "30      1\n",
      "25      1\n",
      "24      1\n",
      "23      1\n",
      "22      1\n",
      "16      1\n",
      "20      1\n",
      "19      1\n",
      "18      1\n",
      "17      1\n",
      "15      1\n",
      "14      1\n",
      "13      1\n",
      "11      1\n",
      "9       1\n",
      "31      1\n",
      "Name: class, dtype: int64\n",
      "32\n"
     ]
    },
    {
     "data": {
      "image/png": "[encoded data removed]",
      "text/plain": [
       "<Figure size 432x288 with 1 Axes>"
      ]
     },
     "metadata": {
      "needs_background": "light"
     },
     "output_type": "display_data"
    }
   ],
   "source": [
    "from sklearn.cluster import AgglomerativeClustering\n",
    "\n",
    "agglo_clustering = AgglomerativeClustering(n_clusters=None, linkage=\"single\", \n",
    "                                           affinity='manhattan', distance_threshold=1.2)\n",
    "agglo_clustering = agglo_clustering.fit(X)\n",
    "\n",
    "agglo_clustering_df = pd.Series(agglo_clustering.labels_, name='class')\n",
    "agglo_distribution = agglo_clustering_df.value_counts()\n",
    "\n",
    "#agglo_distribution = agglo_distribution.nlargest(32, 'first')\n",
    "agglo_distribution\n",
    "#agglo_results.labels_.shape\n",
    "#agglo_clustering=agglo_clustering.astype({\"class\":'float64'})\n",
    "#agglo_clustering\n",
    "_ = agglo_distribution.plot(kind='bar')\n",
    "print(agglo_distribution)\n",
    "print(len(agglo_distribution))"
   ]
  },
  {
   "cell_type": "code",
   "execution_count": 7,
   "id": "4d3e6d33",
   "metadata": {
    "scrolled": false
   },
   "outputs": [
    {
     "data": {
      "image/png": "[encoded data removed]",
      "text/plain": [
       "<Figure size 432x288 with 1 Axes>"
      ]
     },
     "metadata": {
      "needs_background": "light"
     },
     "output_type": "display_data"
    }
   ],
   "source": [
    "import scipy\n",
    "from scipy.cluster import hierarchy\n",
    "#Basic Cluster Sample Test\n",
    "clusters = hierarchy.linkage(X, method=\"single\")\n",
    "\n",
    "clusters[:15]\n",
    "plt.figure()\n",
    "dn = hierarchy.dendrogram(clusters, orientation='top')\n",
    "plt.show()"
   ]
  },
  {
   "cell_type": "code",
   "execution_count": 8,
   "id": "03640ba5",
   "metadata": {},
   "outputs": [
    {
     "data": {
      "text/plain": [
       "(1199, 4)"
      ]
     },
     "execution_count": 8,
     "metadata": {},
     "output_type": "execute_result"
    }
   ],
   "source": [
    "clusters.shape"
   ]
  },
  {
   "cell_type": "code",
   "execution_count": 9,
   "id": "5bd8cc73",
   "metadata": {
    "scrolled": false
   },
   "outputs": [
    {
     "data": {
      "image/png": "[encoded data removed]",
      "text/plain": [
       "<Figure size 432x288 with 1 Axes>"
      ]
     },
     "metadata": {
      "needs_background": "light"
     },
     "output_type": "display_data"
    }
   ],
   "source": [
    "from scipy.cluster.hierarchy import dendrogram\n",
    "\n",
    "def plot_dendrogram(cluster, **kwargs):\n",
    "\n",
    "    # Children of hierarchical clustering\n",
    "    # Distances between each pair of children\n",
    "    # Create linkage matrix and then plot the dendrogram\n",
    "    # create the counts of samples under each node\n",
    "    counts = np.zeros(cluster.children_.shape[0])\n",
    "    n_samples = len(cluster.labels_)\n",
    "    for i, merge in enumerate(cluster.children_):\n",
    "        current_count = 0\n",
    "        for child_idx in merge:\n",
    "            if child_idx < n_samples:\n",
    "                current_count += 1  # leaf node\n",
    "            else:\n",
    "                current_count += counts[child_idx - n_samples]\n",
    "        counts[i] = current_count\n",
    "\n",
    "    linkage_matrix = np.column_stack([cluster.children_, cluster.distances_,\n",
    "                                      counts]).astype(float)\n",
    "    \n",
    "    # Plot the corresponding dendrogram\n",
    "    dendrogram(linkage_matrix, **kwargs)\n",
    "    \n",
    "plt.title('Agglomerative Clustering Dendrogram')\n",
    "plot_dendrogram(agglo_clustering)\n",
    "plt.show()"
   ]
  },
  {
   "cell_type": "code",
   "execution_count": 10,
   "id": "97056d5d",
   "metadata": {},
   "outputs": [
    {
     "data": {
      "image/png": "[encoded data removed]",
      "text/plain": [
       "<Figure size 432x288 with 1 Axes>"
      ]
     },
     "metadata": {
      "needs_background": "light"
     },
     "output_type": "display_data"
    }
   ],
   "source": [
    "plt.title('Agglomerative Clustering Dendrogram')\n",
    "plot_dendrogram(agglo_clustering, truncate_mode='level', p=32)\n",
    "plt.show()"
   ]
  },
  {
   "cell_type": "markdown",
   "id": "ac81ac9e",
   "metadata": {},
   "source": [
    "## K-Means Clustering"
   ]
  },
  {
   "cell_type": "markdown",
   "id": "d1fc17a4",
   "metadata": {},
   "source": [
    "### Exercise 2.1 - K-Means Clustering for Equivalence Classes"
   ]
  },
  {
   "cell_type": "code",
   "execution_count": 11,
   "id": "acc45eed",
   "metadata": {
    "scrolled": true
   },
   "outputs": [
    {
     "name": "stdout",
     "output_type": "stream",
     "text": [
      "[ 6  6  6 ... 26 26 26]\n"
     ]
    }
   ],
   "source": [
    "from sklearn.cluster import KMeans\n",
    "\n",
    "#initialize cluster size\n",
    "k = 32\n",
    "kmeans = KMeans(n_clusters=k)\n",
    "\n",
    "kmeans.fit(X)\n",
    "#kmeans_labels = est.labels_\n",
    "\n",
    "print(kmeans.labels_)"
   ]
  },
  {
   "cell_type": "code",
   "execution_count": 12,
   "id": "8f2a9175",
   "metadata": {
    "scrolled": true
   },
   "outputs": [
    {
     "name": "stdout",
     "output_type": "stream",
     "text": [
      "9     100\n",
      "2      97\n",
      "6      83\n",
      "10     83\n",
      "12     76\n",
      "11     73\n",
      "14     69\n",
      "3      60\n",
      "8      58\n",
      "4      56\n",
      "26     51\n",
      "5      48\n",
      "13     28\n",
      "7      27\n",
      "28     24\n",
      "20     22\n",
      "16     20\n",
      "18     19\n",
      "19     18\n",
      "1      17\n",
      "27     17\n",
      "24     17\n",
      "17     16\n",
      "30     16\n",
      "23     16\n",
      "25     15\n",
      "0      14\n",
      "31     14\n",
      "22     13\n",
      "21     13\n",
      "29     10\n",
      "15     10\n",
      "Name: class, dtype: int64\n",
      "32\n"
     ]
    },
    {
     "data": {
      "image/png": "[encoded data removed]",
      "text/plain": [
       "<Figure size 432x288 with 1 Axes>"
      ]
     },
     "metadata": {
      "needs_background": "light"
     },
     "output_type": "display_data"
    }
   ],
   "source": [
    "KMEANS_clustering = pd.Series(kmeans.labels_, name='class')\n",
    "km_distribution = KMEANS_clustering.value_counts()\n",
    "\n",
    "_ = km_distribution.plot(kind='bar')\n",
    "print(km_distribution)\n",
    "print(len(km_distribution))"
   ]
  },
  {
   "cell_type": "markdown",
   "id": "a469f633",
   "metadata": {},
   "source": [
    "### Exercise 2.2 - Difference between Agglomerative Clustering and K-Means Clustering"
   ]
  },
  {
   "cell_type": "markdown",
   "id": "288a9562",
   "metadata": {},
   "source": [
    "Compare the result from Exercise 2.1 with that from Exercise 1.2\n",
    "\n",
    "There are some interesting discrepencies in the results from the bar graphs since K-means clustering and hierarchical clustering are runtime dependent. This is to say that the thoroughput of the K-means clusters depends on a prespecified number of clusters to form while the agglomerative clusters were dynamically formed depending on our specified parameters. That said, the hierarchical clustering found more clusters than K-means up to a certain number, after which changing our distance thresholds did nothing to vary the number of emergent clusters. That said, both clustering methods support the notion that a majority of equivalent sets converge to within the first 32 or so clusters since variance falls off after so many clusters are found. It also seems that the K-means clustering develops more clusters due to larger distance metrics. This is likely due to the fact that K-means is clustering based off of the mean-valued distances between the cluster centroids versus the single-distance value problem in our hierarchical model."
   ]
  },
  {
   "cell_type": "markdown",
   "id": "66eb0868",
   "metadata": {},
   "source": [
    "## Exercise 3 - Principal Component Analysis"
   ]
  },
  {
   "cell_type": "markdown",
   "id": "cd24aa62",
   "metadata": {},
   "source": [
    "### Exercise 3.1 - Generate 2 Clusters"
   ]
  },
  {
   "cell_type": "code",
   "execution_count": 13,
   "id": "b61533ab",
   "metadata": {},
   "outputs": [
    {
     "name": "stdout",
     "output_type": "stream",
     "text": [
      "[1 1 1 ... 1 1 0]\n"
     ]
    }
   ],
   "source": [
    "#Initialize cluster size\n",
    "k = 2\n",
    "kmeans2 = KMeans(n_clusters=k)\n",
    "\n",
    "kmeans2.fit(X)\n",
    "print(kmeans2.labels_)"
   ]
  },
  {
   "cell_type": "code",
   "execution_count": 14,
   "id": "53eb0a9a",
   "metadata": {},
   "outputs": [
    {
     "name": "stdout",
     "output_type": "stream",
     "text": [
      "1    784\n",
      "0    416\n",
      "Name: class, dtype: int64\n"
     ]
    },
    {
     "data": {
      "image/png": "[encoded data removed]",
      "text/plain": [
       "<Figure size 432x288 with 1 Axes>"
      ]
     },
     "metadata": {
      "needs_background": "light"
     },
     "output_type": "display_data"
    }
   ],
   "source": [
    "KMEANS_clustering = pd.Series(kmeans2.labels_, name='class')\n",
    "km_distribution = KMEANS_clustering.value_counts()\n",
    "\n",
    "_ = km_distribution.plot(kind='bar')\n",
    "print(km_distribution)"
   ]
  },
  {
   "cell_type": "markdown",
   "id": "c17ea470",
   "metadata": {},
   "source": [
    "### Exercise 3.2 - PCA for Feature Extraction"
   ]
  },
  {
   "cell_type": "code",
   "execution_count": 15,
   "id": "f7cc5f0d",
   "metadata": {},
   "outputs": [
    {
     "data": {
      "text/html": [
       "<div>\n",
       "<style scoped>\n",
       "    .dataframe tbody tr th:only-of-type {\n",
       "        vertical-align: middle;\n",
       "    }\n",
       "\n",
       "    .dataframe tbody tr th {\n",
       "        vertical-align: top;\n",
       "    }\n",
       "\n",
       "    .dataframe thead th {\n",
       "        text-align: right;\n",
       "    }\n",
       "</style>\n",
       "<table border=\"1\" class=\"dataframe\">\n",
       "  <thead>\n",
       "    <tr style=\"text-align: right;\">\n",
       "      <th></th>\n",
       "      <th>0</th>\n",
       "      <th>1</th>\n",
       "      <th>2</th>\n",
       "      <th>3</th>\n",
       "      <th>4</th>\n",
       "      <th>5</th>\n",
       "      <th>6</th>\n",
       "      <th>7</th>\n",
       "      <th>8</th>\n",
       "      <th>9</th>\n",
       "      <th>10</th>\n",
       "      <th>11</th>\n",
       "      <th>12</th>\n",
       "      <th>13</th>\n",
       "      <th>14</th>\n",
       "      <th>15</th>\n",
       "    </tr>\n",
       "  </thead>\n",
       "  <tbody>\n",
       "    <tr>\n",
       "      <th>0</th>\n",
       "      <td>0.308888</td>\n",
       "      <td>-0.292539</td>\n",
       "      <td>-0.135621</td>\n",
       "      <td>0.010928</td>\n",
       "      <td>-0.005877</td>\n",
       "      <td>-0.237307</td>\n",
       "      <td>-0.405267</td>\n",
       "      <td>-0.404264</td>\n",
       "      <td>0.351573</td>\n",
       "      <td>0.271502</td>\n",
       "      <td>-0.120196</td>\n",
       "      <td>-0.036119</td>\n",
       "      <td>-0.231824</td>\n",
       "      <td>-0.019784</td>\n",
       "      <td>-0.014485</td>\n",
       "      <td>0.386089</td>\n",
       "    </tr>\n",
       "    <tr>\n",
       "      <th>1</th>\n",
       "      <td>0.131768</td>\n",
       "      <td>0.202373</td>\n",
       "      <td>-0.161402</td>\n",
       "      <td>-0.478593</td>\n",
       "      <td>-0.275887</td>\n",
       "      <td>-0.112994</td>\n",
       "      <td>-0.020652</td>\n",
       "      <td>0.065938</td>\n",
       "      <td>-0.204401</td>\n",
       "      <td>-0.134228</td>\n",
       "      <td>-0.284107</td>\n",
       "      <td>0.445815</td>\n",
       "      <td>-0.286593</td>\n",
       "      <td>-0.212880</td>\n",
       "      <td>-0.354897</td>\n",
       "      <td>0.015954</td>\n",
       "    </tr>\n",
       "  </tbody>\n",
       "</table>\n",
       "</div>"
      ],
      "text/plain": [
       "         0         1         2         3         4         5         6   \\\n",
       "0  0.308888 -0.292539 -0.135621  0.010928 -0.005877 -0.237307 -0.405267   \n",
       "1  0.131768  0.202373 -0.161402 -0.478593 -0.275887 -0.112994 -0.020652   \n",
       "\n",
       "         7         8         9         10        11        12        13  \\\n",
       "0 -0.404264  0.351573  0.271502 -0.120196 -0.036119 -0.231824 -0.019784   \n",
       "1  0.065938 -0.204401 -0.134228 -0.284107  0.445815 -0.286593 -0.212880   \n",
       "\n",
       "         14        15  \n",
       "0 -0.014485  0.386089  \n",
       "1 -0.354897  0.015954  "
      ]
     },
     "execution_count": 15,
     "metadata": {},
     "output_type": "execute_result"
    }
   ],
   "source": [
    "from sklearn import preprocessing\n",
    "from sklearn.decomposition import PCA\n",
    "import matplotlib.pyplot as plt\n",
    "#import plotly.express as px\n",
    "\n",
    "#scale the data?\n",
    "standardScaler = preprocessing.StandardScaler()\n",
    "pca_clustering = PCA(n_components=2)\n",
    "\n",
    "X = standardScaler.fit_transform(X)\n",
    "pca_clusters = pca_clustering.fit(X)\n",
    "\n",
    "#Obtain projected points along axis\n",
    "X_pca = pca_clustering.transform(X)\n",
    "#get PCA components\n",
    "PC1, PC2 = pca_clustering.components_\n",
    "pca_df_weights = pd.DataFrame(pca_clustering.components_)\n",
    "#get variance in components from eigenvalues\n",
    "PC1_var, PC2_var = pca_clustering.explained_variance_ratio_\n",
    "\n",
    "pca_df_weights"
   ]
  },
  {
   "cell_type": "code",
   "execution_count": 16,
   "id": "29792592",
   "metadata": {
    "scrolled": true
   },
   "outputs": [
    {
     "name": "stdout",
     "output_type": "stream",
     "text": [
      "[0 1]\n"
     ]
    },
    {
     "data": {
      "text/plain": [
       "<Figure size 504x504 with 0 Axes>"
      ]
     },
     "metadata": {},
     "output_type": "display_data"
    }
   ],
   "source": [
    "#Show scatter plot\n",
    "\n",
    "plt.figure(figsize=(7,7))\n",
    "\n",
    "label_z = kmeans2.labels_\n",
    "label_min, label_max = label_z.min(), label_z.max()\n",
    "\n",
    "print(np.unique(label_z))"
   ]
  },
  {
   "cell_type": "code",
   "execution_count": 17,
   "id": "652894ce",
   "metadata": {},
   "outputs": [
    {
     "data": {
      "image/png": "[encoded data removed]",
      "text/plain": [
       "<Figure size 432x288 with 2 Axes>"
      ]
     },
     "metadata": {
      "needs_background": "light"
     },
     "output_type": "display_data"
    }
   ],
   "source": [
    "#Loop through every datapoint and plot variance on scatterplot\n",
    "\n",
    "colors = ['tab:red', 'tab:blue']\n",
    "\n",
    "for l in np.unique(label_z):\n",
    "    plt.scatter(X_pca[(label_z==l), 0], X_pca[(label_z==l), 1], c=colors[l], vmin = label_min, vmax = label_max,\n",
    "            #cmap=plt.get_cmap('RdBu'), \n",
    "                alpha=0.5, label=f'Class {l}')\n",
    "\n",
    "plt.legend()\n",
    "plt.xlabel(\"PC1({:.2%})\".format(PC1_var))\n",
    "plt.ylabel(\"PC2({:.2%})\".format(PC2_var))\n",
    "plt.colorbar()\n",
    "\n",
    "plt.show()"
   ]
  },
  {
   "cell_type": "code",
   "execution_count": 18,
   "id": "9ff3d525",
   "metadata": {},
   "outputs": [
    {
     "data": {
      "text/html": [
       "<div>\n",
       "<style scoped>\n",
       "    .dataframe tbody tr th:only-of-type {\n",
       "        vertical-align: middle;\n",
       "    }\n",
       "\n",
       "    .dataframe tbody tr th {\n",
       "        vertical-align: top;\n",
       "    }\n",
       "\n",
       "    .dataframe thead th {\n",
       "        text-align: right;\n",
       "    }\n",
       "</style>\n",
       "<table border=\"1\" class=\"dataframe\">\n",
       "  <thead>\n",
       "    <tr style=\"text-align: right;\">\n",
       "      <th></th>\n",
       "      <th>0</th>\n",
       "      <th>1</th>\n",
       "      <th>2</th>\n",
       "      <th>3</th>\n",
       "      <th>4</th>\n",
       "      <th>5</th>\n",
       "      <th>6</th>\n",
       "      <th>7</th>\n",
       "      <th>8</th>\n",
       "      <th>9</th>\n",
       "      <th>10</th>\n",
       "      <th>11</th>\n",
       "      <th>12</th>\n",
       "      <th>13</th>\n",
       "      <th>14</th>\n",
       "      <th>15</th>\n",
       "    </tr>\n",
       "  </thead>\n",
       "  <tbody>\n",
       "    <tr>\n",
       "      <th>0</th>\n",
       "      <td>0.308888</td>\n",
       "      <td>-0.292539</td>\n",
       "      <td>-0.135621</td>\n",
       "      <td>0.010928</td>\n",
       "      <td>-0.005877</td>\n",
       "      <td>-0.237307</td>\n",
       "      <td>-0.405267</td>\n",
       "      <td>-0.404264</td>\n",
       "      <td>0.351573</td>\n",
       "      <td>0.271502</td>\n",
       "      <td>-0.120196</td>\n",
       "      <td>-0.036119</td>\n",
       "      <td>-0.231824</td>\n",
       "      <td>-0.019784</td>\n",
       "      <td>-0.014485</td>\n",
       "      <td>0.386089</td>\n",
       "    </tr>\n",
       "    <tr>\n",
       "      <th>1</th>\n",
       "      <td>0.131768</td>\n",
       "      <td>0.202373</td>\n",
       "      <td>-0.161402</td>\n",
       "      <td>-0.478593</td>\n",
       "      <td>-0.275887</td>\n",
       "      <td>-0.112994</td>\n",
       "      <td>-0.020652</td>\n",
       "      <td>0.065938</td>\n",
       "      <td>-0.204401</td>\n",
       "      <td>-0.134228</td>\n",
       "      <td>-0.284107</td>\n",
       "      <td>0.445815</td>\n",
       "      <td>-0.286593</td>\n",
       "      <td>-0.212880</td>\n",
       "      <td>-0.354897</td>\n",
       "      <td>0.015954</td>\n",
       "    </tr>\n",
       "  </tbody>\n",
       "</table>\n",
       "</div>"
      ],
      "text/plain": [
       "         0         1         2         3         4         5         6   \\\n",
       "0  0.308888 -0.292539 -0.135621  0.010928 -0.005877 -0.237307 -0.405267   \n",
       "1  0.131768  0.202373 -0.161402 -0.478593 -0.275887 -0.112994 -0.020652   \n",
       "\n",
       "         7         8         9         10        11        12        13  \\\n",
       "0 -0.404264  0.351573  0.271502 -0.120196 -0.036119 -0.231824 -0.019784   \n",
       "1  0.065938 -0.204401 -0.134228 -0.284107  0.445815 -0.286593 -0.212880   \n",
       "\n",
       "         14        15  \n",
       "0 -0.014485  0.386089  \n",
       "1 -0.354897  0.015954  "
      ]
     },
     "execution_count": 18,
     "metadata": {},
     "output_type": "execute_result"
    }
   ],
   "source": [
    "pca_df_weights.head()"
   ]
  },
  {
   "cell_type": "code",
   "execution_count": 19,
   "id": "76af0032",
   "metadata": {},
   "outputs": [
    {
     "data": {
      "text/plain": [
       "0     0.308888\n",
       "1    -0.292539\n",
       "2    -0.135621\n",
       "3     0.010928\n",
       "4    -0.005877\n",
       "5    -0.237307\n",
       "6    -0.405267\n",
       "7    -0.404264\n",
       "8     0.351573\n",
       "9     0.271502\n",
       "10   -0.120196\n",
       "11   -0.036119\n",
       "12   -0.231824\n",
       "13   -0.019784\n",
       "14   -0.014485\n",
       "15    0.386089\n",
       "Name: 0, dtype: float64"
      ]
     },
     "execution_count": 19,
     "metadata": {},
     "output_type": "execute_result"
    }
   ],
   "source": [
    "pca_df_weights.loc[0,:]"
   ]
  },
  {
   "cell_type": "code",
   "execution_count": 20,
   "id": "cb8ed950",
   "metadata": {},
   "outputs": [
    {
     "name": "stdout",
     "output_type": "stream",
     "text": [
      "Max weight occurs at :  0.38608892990826604\n"
     ]
    }
   ],
   "source": [
    "print(\"Max weight occurs at : \", pca_df_weights.loc[0,:].max())"
   ]
  },
  {
   "cell_type": "code",
   "execution_count": null,
   "id": "8200ecbc",
   "metadata": {},
   "outputs": [],
   "source": []
  }
 ],
 "metadata": {
  "kernelspec": {
   "display_name": "Python 3",
   "language": "python",
   "name": "python3"
  },
  "language_info": {
   "codemirror_mode": {
    "name": "ipython",
    "version": 3
   },
   "file_extension": ".py",
   "mimetype": "text/x-python",
   "name": "python",
   "nbconvert_exporter": "python",
   "pygments_lexer": "ipython3",
   "version": "3.8.5"
  }
 },
 "nbformat": 4,
 "nbformat_minor": 5
}
