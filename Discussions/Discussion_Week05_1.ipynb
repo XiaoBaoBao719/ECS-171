{
 "cells": [
  {
   "cell_type": "markdown",
   "metadata": {},
   "source": [
    "# Discussion 08 - k-Means Clustering, Fuzzy c-Means Clustering, Hierarchical Clustering"
   ]
  },
  {
   "cell_type": "markdown",
   "metadata": {},
   "source": [
    "## Goals\n",
    "\n",
    "- Unsupervised Learning\n",
    "- Clustering Algorithms\n",
    "    - Measuring Distance\n",
    "    - Cluster Centroids\n",
    "- k-Means Clustering\n",
    "- Fuzzy c-Means Clustering\n",
    "- Hierarchical Clustering\n",
    "    - Measuring Distance between Clusters\n",
    "\n",
    "Instructor : Bharath Kinnal"
   ]
  },
  {
   "cell_type": "markdown",
   "metadata": {},
   "source": [
    "## Unsupervised Learning\n",
    "\n",
    "The goal for unsupervised learning is to model the underlying structure or distribution in the data in order to learn more about the data. Unlike in supervised learning, there is no correct answers and there is no teacher in unsupervised learning. Here, the model is only given the input data (X) and no corresponding output variables, and the algorithm used in the model discovers and presents the interesting structure present in the data.\n",
    "\n",
    "Unsupervised learning problems can be further grouped into clustering and association problems.\n",
    "\n",
    "- __Clustering problem :__ A clustering problem is where you want to discover the inherent groupings in the data, such as grouping customers by purchasing behavior. Some common clustering algorithms are given below :\n",
    "    - k-means clustering\n",
    "    - Fuzzy c-means clustering\n",
    "    - Hierarchical clustering\n",
    "- __Association problem :__ An association rule learning problem is where you want to discover rules that describe large portions of your data, such as people that buy X also tend to buy Y. The Apriori algorithm is an example of an association rule learning algorithm.\n",
    "\n"
   ]
  },
  {
   "cell_type": "markdown",
   "metadata": {},
   "source": [
    "## Clustering Algorithms\n",
    "\n",
    "Cluster analysis, or clustering, is an unsupervised machine learning task. It involves automatically discovering natural grouping in data. Unlike supervised learning, clustering algorithms only interpret the input data and find natural groups or clusters in feature space.\n",
    "\n",
    "A cluster is often an area of density in the feature space where examples from the domain (observations or rows of data) are closer to the cluster than other clusters. The cluster may have a center (the centroid) that is a sample or a point feature space and may have a boundary or extent. All clustering algorithms make use of the distance between any two input data points in the feature space."
   ]
  },
  {
   "cell_type": "markdown",
   "metadata": {},
   "source": [
    "### Measuring Distance\n",
    "A distance measure is an objective score that summarizes the relative difference between two data points in a feature space. Measuring distance between two data points is often found to be a fundamental step in many machine learning algorithms. A short list of some of the more popular machine learning algorithms that use distance measures at their core is as follows:\n",
    "- K-Nearest Neighbors\n",
    "- Learning Vector Quantization (LVQ)\n",
    "- Self-Organizing Map (SOM)\n",
    "- K-Means Clustering\n",
    "- Fuzzy c-Means Clustering\n",
    "\n",
    "There are many ways to measure distance between two given data points in the feature space. Some commonly used distance measures are given below :\n",
    "- Euclidean Distance\n",
    "- Manhattan Distance\n",
    "- Minkowski Distance\n",
    "- Cosine Distance"
   ]
  },
  {
   "cell_type": "markdown",
   "metadata": {},
   "source": [
    "#### Euclidean Distance\n",
    "Given two data points $x = (x_1, \\dots, x_n)$ and $y = (y_1, \\dots, y_n)$, the Euclidean distance between them is calculated as follows :\n",
    "$$d_{Euclidean} = \\sqrt{(x_1 - y_1)^2 + \\dots + (x_n - y_n)^2}$$"
   ]
  },
  {
   "cell_type": "code",
   "execution_count": 225,
   "metadata": {},
   "outputs": [
    {
     "name": "stdout",
     "output_type": "stream",
     "text": [
      "6.082762530298219\n"
     ]
    }
   ],
   "source": [
    "#from scipy.spatial.distance import euclidean\n",
    "\n",
    "from math import sqrt\n",
    " \n",
    "def euclidean(a, b):\n",
    "    return sqrt(sum((e1-e2)**2 for e1, e2 in zip(a,b)))\n",
    "\n",
    "row1 = [10, 20, 15, 10, 5]\n",
    "row2 = [12, 24, 18, 8, 7]\n",
    "\n",
    "dist = euclidean(row1, row2)\n",
    "print(dist)"
   ]
  },
  {
   "cell_type": "markdown",
   "metadata": {},
   "source": [
    "#### Manhattan Distance (Cityblock Distance)\n",
    "Given two data points $x = (x_1, \\dots, x_n)$ and $y = (y_1, \\dots, y_n)$, the Manhattan distance between them is calculated as follows :\n",
    "$$d_{Manhattan} = |x_1 - y_1| + \\dots + |x_n - y_n|$$"
   ]
  },
  {
   "cell_type": "code",
   "execution_count": 226,
   "metadata": {},
   "outputs": [
    {
     "name": "stdout",
     "output_type": "stream",
     "text": [
      "13\n"
     ]
    }
   ],
   "source": [
    "#from scipy.spatial.distance import cityblock\n",
    "\n",
    "def cityblock(a, b):\n",
    "    return sum(abs(e1-e2) for e1, e2 in zip(a,b))\n",
    "\n",
    "row1 = [10, 20, 15, 10, 5]\n",
    "row2 = [12, 24, 18, 8, 7]\n",
    "\n",
    "dist = cityblock(row1, row2)\n",
    "print(dist)"
   ]
  },
  {
   "cell_type": "markdown",
   "metadata": {},
   "source": [
    "#### Minkowski Distance\n",
    "Minkowski Distance is a generalization of the Euclidean and Manhattan distance measures and adds a parameter, called the _order_ $p$, that allows different distance measures to be calculated.\n",
    "\n",
    "Given two data points $x = (x_1, \\dots, x_n)$ and $y = (y_1, \\dots, y_n)$, the Minkowski distance between them is calculated as follows :\n",
    "$$d_{Minkowski} = [|x_1 - y_1|^p + \\dots + |x_n - y_n|^p]^\\frac{1}{p}$$"
   ]
  },
  {
   "cell_type": "code",
   "execution_count": 230,
   "metadata": {},
   "outputs": [
    {
     "name": "stdout",
     "output_type": "stream",
     "text": [
      "4.862944131094279\n"
     ]
    }
   ],
   "source": [
    "#from scipy.spatial.distance import minkowski_distance\n",
    " \n",
    "def minkowski_distance(a, b, p):\n",
    "    return sum(abs(e1-e2)**p for e1, e2 in zip(a,b))**(1/p)\n",
    "\n",
    "row1 = [10, 20, 15, 10, 5]\n",
    "row2 = [12, 24, 18, 8, 7]\n",
    "\n",
    "dist = minkowski_distance(row1, row2, 3)\n",
    "print(dist)"
   ]
  },
  {
   "cell_type": "markdown",
   "metadata": {},
   "source": [
    "#### Cosine Distance\n",
    "Cosine distance is a form of correlation-based distance measure. Using this measure, one can consider two objects to be close to each other (similar) if their features are highly correlated, even though the observed values may be far apart in terms of Euclidean or Minkowski distance. The distance between two objects is 0 when they are perfectly correlated. Cosine distance is quite sensitive to outliers.\n",
    "\n",
    "The cosine similarity is the cosine function of the angle between the two feature vectors in a multidimensional space. Given two data points $x = (x_1, \\dots, x_n)$ and $y = (y_1, \\dots, y_n)$, the Cosine distance between them is calculated as follows :\n",
    "$$d_{Cosine} = 1 - \\frac{x \\cdot y}{\\Vert x \\Vert^2 \\Vert y \\Vert^2}$$"
   ]
  },
  {
   "cell_type": "code",
   "execution_count": 231,
   "metadata": {},
   "outputs": [
    {
     "name": "stdout",
     "output_type": "stream",
     "text": [
      "0.006746536411526227\n"
     ]
    }
   ],
   "source": [
    "#from sklearn.metrics.pairwise import cosine_distances\n",
    "\n",
    "from math import sqrt\n",
    "\n",
    "def cosine_distances(a, b):\n",
    "    numerator = sum(e1*e2 for e1, e2 in zip(a,b))\n",
    "    denominator = sqrt(sum(e1*e1 for e1 in a) * sum(e2*e2 for e2 in b))\n",
    "    \n",
    "    return 1 - (numerator / denominator)\n",
    "\n",
    "row1 = [10, 20, 15, 10, 5]\n",
    "row2 = [12, 24, 18, 8, 7]\n",
    "\n",
    "dist = cosine_distances(row1, row2)\n",
    "print(dist)"
   ]
  },
  {
   "cell_type": "markdown",
   "metadata": {},
   "source": [
    "### Cluster Centroids\n",
    "\n",
    "The cluster centroid is considered as a measure of cluster location. Usually, the centroid is considered as the multi-dimensional average of the cluster. Each centroid represents the _average observation_ within a cluster across all the attributes in the analysis.\n",
    "\n",
    "Given a cluster $c_j = \\{x_1, x_2, \\dots, x_n\\}$, the centroid is calculated to be :\n",
    "$$\\mu_j = \\frac{1}{|c_j|} \\sum_{i=1}^{n} x_i$$\n",
    "\n",
    "The goal of a clustering algorithm is to minimize the distance between any data point to its cluster centroid, such that the data point will be closer to its own cluster centroid compared to other centroids."
   ]
  },
  {
   "cell_type": "markdown",
   "metadata": {},
   "source": [
    "## k-Means Clustering\n",
    "\n",
    "k-Means clustering is an iterative algorithm that partitions a group of $n$ data points into $k$ subgroups. The value of $k$ is predefined by the developer."
   ]
  },
  {
   "cell_type": "markdown",
   "metadata": {},
   "source": [
    "The objective of the k-means clustering is to minimize the distance that each point has from the centroid of the cluster. This is known as __intra-cluster variance__ and can be minimized iteratively using the following objective function :\n",
    "\n",
    "$$J = \\sum_{j=1}^{k} \\sum_{i=1}^{n} (x_i^j - c_j)^2$$\n",
    "\n",
    "Here, $J$ is the objective function of the centroid of the cluster, $c_j$ is a cluster centroid, $x_i^j$ is a data point belonging to cluster $j$ in the current iteration of the algorithm."
   ]
  },
  {
   "cell_type": "markdown",
   "metadata": {},
   "source": [
    "The steps associated with the k-means clustering algorithm is shown below :\n",
    "\n",
    "- Finalize the number of clusters you want to identify in your data. This is the $k$ in k-means clustering.\n",
    "- __Initialization Step :__ Randomly initialize $k$ cluster centroids in the feature space. Towards the end of the algorithm, these points will converge they will be at the center of their respective cluster.\n",
    "- __Assignment Step :__ For any input data point, find the closest cluster centroid to that data point using a given distance measure, and assign the data point to the respective cluster.\n",
    "- __Update Step :__ Update the new cluster centroids to be the mean of the all data points present within the cluster.\n",
    "- Repeat the __assignment__ and __update__ steps till cluster centroid positions do not change. K-means algorithm will converge when we get the unchanged position of cluster centroids.\n",
    "\n",
    "Once K-means algorithm is converged, data point assigned to respective centroid will represent the respective cluster. During cluster assignment step if we found a centroid who has no data point associated with it, then it's better to remove it."
   ]
  },
  {
   "cell_type": "code",
   "execution_count": 232,
   "metadata": {},
   "outputs": [],
   "source": [
    "from sklearn.datasets import load_iris\n",
    "\n",
    "iris = load_iris()\n",
    "X = iris.data\n",
    "y = iris.target"
   ]
  },
  {
   "cell_type": "code",
   "execution_count": 255,
   "metadata": {},
   "outputs": [],
   "source": [
    "from sklearn.cluster import KMeans\n",
    "\n",
    "k = 2\n",
    "\n",
    "est = KMeans(n_clusters=k)"
   ]
  },
  {
   "cell_type": "code",
   "execution_count": 256,
   "metadata": {},
   "outputs": [],
   "source": [
    "import sys\n",
    "#!{sys.executable} -m pip install mpl_toolkits\n",
    "\n",
    "import mpl_toolkits"
   ]
  },
  {
   "cell_type": "code",
   "execution_count": 257,
   "metadata": {},
   "outputs": [],
   "source": [
    "import matplotlib.pyplot as plt\n",
    "\n",
    "# Though the following import is not directly being used, it is required for 3D projection to work\n",
    "from mpl_toolkits.mplot3d import Axes3D"
   ]
  },
  {
   "cell_type": "code",
   "execution_count": 258,
   "metadata": {
    "scrolled": true
   },
   "outputs": [
    {
     "data": {
      "image/png": "[encoded data removed]",
      "text/plain": [
       "<Figure size 288x216 with 1 Axes>"
      ]
     },
     "metadata": {
      "needs_background": "light"
     },
     "output_type": "display_data"
    }
   ],
   "source": [
    "fig = plt.figure(1, figsize=(4, 3))\n",
    "ax = Axes3D(fig, rect=[0, 0, .95, 1], elev=48, azim=134)\n",
    "est.fit(X)\n",
    "labels = est.labels_\n",
    "\n",
    "ax.scatter(X[:, 3], X[:, 0], X[:, 2],\n",
    "           c=labels.astype(float), edgecolor='k')\n",
    "\n",
    "ax.w_xaxis.set_ticklabels([])\n",
    "ax.w_yaxis.set_ticklabels([])\n",
    "ax.w_zaxis.set_ticklabels([])\n",
    "ax.set_xlabel('Petal width')\n",
    "ax.set_ylabel('Sepal length')\n",
    "ax.set_zlabel('Petal length')\n",
    "ax.set_title('k_means_iris_3')\n",
    "ax.dist = 12\n",
    "#fignum = fignum + 1"
   ]
  },
  {
   "cell_type": "code",
   "execution_count": 250,
   "metadata": {},
   "outputs": [
    {
     "name": "stderr",
     "output_type": "stream",
     "text": [
      "<ipython-input-250-fb06e4ed31e4>:30: UserWarning: Matplotlib is currently using module://ipykernel.pylab.backend_inline, which is a non-GUI backend, so cannot show the figure.\n",
      "  fig.show()\n"
     ]
    },
    {
     "data": {
      "image/png": "[encoded data removed]",
      "text/plain": [
       "<Figure size 288x216 with 1 Axes>"
      ]
     },
     "metadata": {
      "needs_background": "light"
     },
     "output_type": "display_data"
    }
   ],
   "source": [
    "import numpy as np\n",
    "\n",
    "np.random.seed(5)\n",
    "\n",
    "# Plot the ground truth\n",
    "fig = plt.figure(2, figsize=(4, 3))\n",
    "ax = Axes3D(fig, rect=[0, 0, .95, 1], elev=48, azim=134)\n",
    "\n",
    "for name, label in [('Setosa', 0),\n",
    "                    ('Versicolour', 1),\n",
    "                    ('Virginica', 2)]:\n",
    "    ax.text3D(X[y == label, 3].mean(),\n",
    "              X[y == label, 0].mean(),\n",
    "              X[y == label, 2].mean() + 2, name,\n",
    "              horizontalalignment='center',\n",
    "              bbox=dict(alpha=.2, edgecolor='w', facecolor='w'))\n",
    "# Reorder the labels to have colors matching the cluster results\n",
    "y = np.choose(y, [1, 2, 0]).astype(float)\n",
    "ax.scatter(X[:, 3], X[:, 0], X[:, 2], c=y, edgecolor='k')\n",
    "\n",
    "ax.w_xaxis.set_ticklabels([])\n",
    "ax.w_yaxis.set_ticklabels([])\n",
    "ax.w_zaxis.set_ticklabels([])\n",
    "ax.set_xlabel('Petal width')\n",
    "ax.set_ylabel('Sepal length')\n",
    "ax.set_zlabel('Petal length')\n",
    "ax.set_title('Ground Truth')\n",
    "ax.dist = 12\n",
    "\n",
    "fig.show()"
   ]
  },
  {
   "cell_type": "markdown",
   "metadata": {},
   "source": [
    "## Fuzzy c-Mean Clustering\n",
    "\n",
    "The k-means clustering algorithm only allows a given input data point to lie in only one cluster. In contrast, fuzzy c-means clustering allows a data point to lie in multiple clusters. In this clustering algorithm, a membership value $w_{ij}$ is associated between a given data point $x_i$ and a cluster centroid $c_j$, where $0 \\le w_{ij} \\le 1$.\n",
    "\n",
    "Given the number of cluster centroids to be $k$, the goal of the fuzzy c-mean algorithm is to minimize the following objective function :\n",
    "\n",
    "$$J = \\sum_{j=1}^{k} \\sum_{i=1}^{n} w_{ij} (x_i - c_j)^2$$"
   ]
  },
  {
   "cell_type": "markdown",
   "metadata": {},
   "source": [
    "The weights $w_{ij}$ is the membership value (weight) associated between the data point $x_i$ and the cluster centroid $c_j$. These weights are updated in each iteration using the following equation :\n",
    "\n",
    "$$w_{ij} = \\frac{1}{\\sum_{l=1}^{k} (\\frac{|x_i−c_j|}{|x_i−c_l|})^\\frac{2}{m−1}}$$\n",
    "\n",
    "The value $w_{ij}$ is inversely proportional to the distance from $x_i$ to the cluster center $c_l$.\n",
    "\n",
    "The parameter $m$ is a real number ($1 < m < \\infty$) and it defines the level of cluster fuzziness. Note that, a value of $m$ close to 1 gives a cluster solution which becomes increasingly similar to the solution of hard clustering such as k-means; whereas a value of $m$ close to infinite leads to complete fuzzyness."
   ]
  },
  {
   "cell_type": "markdown",
   "metadata": {},
   "source": [
    "In fuzzy clustering the centroid of a cluster is the mean of all points, weighted by their degree of belonging to the cluster:\n",
    "\n",
    "$$c_j = \\frac{\\sum_{x_i \\in \\text{ cluster } j}w_{ij}x_i}{\\sum_{x_i \\in \\text{ cluster } j}w_{ij}}$$"
   ]
  },
  {
   "cell_type": "markdown",
   "metadata": {},
   "source": [
    "The steps associated with the fuzzy c-means clustering algorithm is shown below :\n",
    "\n",
    "- Finalize the number of clusters you want to identify in your data. This is the $k$ in k-means clustering.\n",
    "- __Initialization Step :__ Randomly initialize $k$ cluster centroids in the feature space. Towards the end of the algorithm, these points will converge they will be at the center of their respective cluster.\n",
    "- __Weight Update Step :__ For any input data point $x_i$ and any cluster centroid $c_j$, update the corresponding weight $w_{ij}$.\n",
    "<!-- - __Assignment Step :__ For any input data point, find the closest cluster centroid to that data point using a given distance measure, and assign the data point to the respective cluster. -->\n",
    "- __Centroid Update Step :__ Update the new cluster centroids to be the weighted mean of the all data points present within the feature space.\n",
    "\n",
    "- Repeat the __weight update__ and __centroid update__ steps till cluster centroid positions do not change. Fuzzy c-means algorithm will converge when we get the unchanged position of cluster centroids.|"
   ]
  },
  {
   "cell_type": "code",
   "execution_count": 52,
   "metadata": {
    "scrolled": false
   },
   "outputs": [
    {
     "name": "stdout",
     "output_type": "stream",
     "text": [
      "Defaulting to user installation because normal site-packages is not writeable\n",
      "Collecting scikit-fuzzy\n",
      "  Downloading scikit-fuzzy-0.4.2.tar.gz (993 kB)\n",
      "\u001b[K     |████████████████████████████████| 993 kB 92 kB/s eta 0:00:011\n",
      "\u001b[?25hRequirement already satisfied: networkx>=1.9.0 in /usr/lib/python3/dist-packages (from scikit-fuzzy) (2.4)\n",
      "Requirement already satisfied: numpy>=1.6.0 in /home/bharath/.local/lib/python3.8/site-packages (from scikit-fuzzy) (1.19.5)\n",
      "Requirement already satisfied: scipy>=0.9.0 in /usr/lib/python3/dist-packages (from scikit-fuzzy) (1.3.3)\n",
      "Building wheels for collected packages: scikit-fuzzy\n",
      "  Building wheel for scikit-fuzzy (setup.py) ... \u001b[?25ldone\n",
      "\u001b[?25h  Created wheel for scikit-fuzzy: filename=scikit_fuzzy-0.4.2-py3-none-any.whl size=894069 sha256=39b90cec72d3a2d6ee311c043ff59c974fcb477368fa59e42895742ff6c74da0\n",
      "  Stored in directory: /home/bharath/.cache/pip/wheels/2c/04/80/7eefb1a2de7d36aefd06432fab2a1486caf0a0596a7067391a\n",
      "Successfully built scikit-fuzzy\n",
      "Installing collected packages: scikit-fuzzy\n",
      "Successfully installed scikit-fuzzy-0.4.2\n",
      "\u001b[33mWARNING: You are using pip version 21.0.1; however, version 21.1.3 is available.\n",
      "You should consider upgrading via the '/usr/bin/python3.8 -m pip install --upgrade pip' command.\u001b[0m\n"
     ]
    }
   ],
   "source": [
    "!{sys.executable} -m pip install scikit-fuzzy"
   ]
  },
  {
   "cell_type": "code",
   "execution_count": 251,
   "metadata": {},
   "outputs": [],
   "source": [
    "import pandas as pd # reading all required header files\n",
    "import numpy as np"
   ]
  },
  {
   "cell_type": "code",
   "execution_count": 252,
   "metadata": {},
   "outputs": [],
   "source": [
    "from sklearn.datasets import load_iris\n",
    "\n",
    "iris = load_iris()\n",
    "X = iris.data\n",
    "y = iris.target"
   ]
  },
  {
   "cell_type": "code",
   "execution_count": 254,
   "metadata": {},
   "outputs": [
    {
     "name": "stdout",
     "output_type": "stream",
     "text": [
      "Centers :  [[5.01061832 3.4009406  1.49720404 0.25240895]\n",
      " [6.60830171 3.01599495 5.43896571 1.98874478]\n",
      " [5.95369888 2.82556253 4.41555898 1.41512114]]\n",
      "Weights\n",
      "[[0.70577813 0.60384882 0.61100292 0.58382381 0.67778408 0.53701453\n",
      "  0.60863402 0.81037968 0.53413409 0.62529459 0.58306074 0.66815332\n",
      "  0.59097662 0.52587328 0.50010138 0.47368097 0.54885178 0.70567738\n",
      "  0.51178435 0.60684846 0.588837   0.62590678 0.56364958 0.61627907\n",
      "  0.585127   0.60105322 0.6952816  0.677087   0.67957252 0.61363055\n",
      "  0.61299859 0.59955981 0.53925708 0.5095098  0.6344725  0.62865275\n",
      "  0.57610016 0.65255721 0.54290565 0.75369575 0.67965686 0.48151333\n",
      "  0.55773528 0.6108826  0.55002393 0.59434821 0.6015386  0.5967956\n",
      "  0.60343129 0.72054279 0.20818753 0.19086752 0.19196938 0.24370498\n",
      "  0.1835755  0.17082092 0.18761609 0.33174083 0.19420761 0.25955281\n",
      "  0.31258458 0.17543531 0.24345564 0.16284484 0.2691032  0.20667426\n",
      "  0.18688326 0.22090878 0.20259615 0.24762597 0.18757735 0.20458469\n",
      "  0.1835027  0.1738802  0.19212876 0.19950314 0.19416603 0.17147366\n",
      "  0.13359306 0.28595512 0.26347527 0.27607874 0.22881443 0.18074644\n",
      "  0.20866459 0.19869201 0.19231761 0.20436948 0.21608526 0.23647056\n",
      "  0.21029462 0.1610999  0.21935612 0.32772169 0.20339464 0.20274701\n",
      "  0.191024   0.17248014 0.34892327 0.20259794 0.19776259 0.1896123\n",
      "  0.18584773 0.16067967 0.16383705 0.22499752 0.24743165 0.21002088\n",
      "  0.18297371 0.21400756 0.16069352 0.15944859 0.1368181  0.20013869\n",
      "  0.20111767 0.1659091  0.13569082 0.23638727 0.2345437  0.20051619\n",
      "  0.17472013 0.20014218 0.22948624 0.17481443 0.16281523 0.19765258\n",
      "  0.17429281 0.17546546 0.1548868  0.19415375 0.20715319 0.23613345\n",
      "  0.1600267  0.1754353  0.19413847 0.21859783 0.18562462 0.14759972\n",
      "  0.17770526 0.15260792 0.1675433  0.17770869 0.1896123  0.18103723\n",
      "  0.18424374 0.16209712 0.18113984 0.142001   0.18409939 0.18263567]\n",
      " [0.13558875 0.18201854 0.17941987 0.19122993 0.1486597  0.21295858\n",
      "  0.18043298 0.08714379 0.21461139 0.17201412 0.19221335 0.15231727\n",
      "  0.18813838 0.21984138 0.23295872 0.24532741 0.20910708 0.13556009\n",
      "  0.22461218 0.18134433 0.18806732 0.17225422 0.20291594 0.17499371\n",
      "  0.1892242  0.18242992 0.13956464 0.14849888 0.14752069 0.17716528\n",
      "  0.17723237 0.18377095 0.21362843 0.22814624 0.16767462 0.17143665\n",
      "  0.19582568 0.16043206 0.21101095 0.11316942 0.14785988 0.23900688\n",
      "  0.20434894 0.17826472 0.20575325 0.18635294 0.18355128 0.18572746\n",
      "  0.18279156 0.12858793 0.40568918 0.34335819 0.43769544 0.29183205\n",
      "  0.35348694 0.25435298 0.37374687 0.28502815 0.35630163 0.29134684\n",
      "  0.29392885 0.25280468 0.29861419 0.29773391 0.28465427 0.35598061\n",
      "  0.28199712 0.27488544 0.32807345 0.28369334 0.3656013  0.27203351\n",
      "  0.37545993 0.29796579 0.30181322 0.34277429 0.40449043 0.47929305\n",
      "  0.22359899 0.28534952 0.28804834 0.28810537 0.27477855 0.39191048\n",
      "  0.29903679 0.33010821 0.3985247  0.31627611 0.27310691 0.28407042\n",
      "  0.28319739 0.28200395 0.27286818 0.28603943 0.2667026  0.26601945\n",
      "  0.25559981 0.26342026 0.27905682 0.26147256 0.48411704 0.39685292\n",
      "  0.51401622 0.53652879 0.55537794 0.44638902 0.32223384 0.46675034\n",
      "  0.50002616 0.46537164 0.52495792 0.52213729 0.62277727 0.379559\n",
      "  0.41921701 0.53312735 0.60875777 0.43163148 0.43165101 0.36576646\n",
      "  0.53767304 0.36720337 0.43852144 0.41234411 0.56122323 0.48896274\n",
      "  0.38145137 0.39698822 0.56382169 0.48832376 0.47133265 0.43102025\n",
      "  0.55308933 0.42182156 0.43345083 0.45631722 0.5003935  0.57330077\n",
      "  0.36469882 0.5811831  0.5496685  0.51133612 0.39685292 0.52471523\n",
      "  0.51513185 0.54587483 0.42766751 0.57909007 0.49079258 0.40848084]\n",
      " [0.15863312 0.21413264 0.20957722 0.22494626 0.17355622 0.25002688\n",
      "  0.210933   0.10247653 0.25125452 0.20269129 0.22472591 0.17952942\n",
      "  0.220885   0.25428534 0.2669399  0.28099161 0.24204114 0.15876254\n",
      "  0.26360347 0.21180721 0.22309567 0.20183899 0.23343448 0.20872721\n",
      "  0.22564879 0.21651686 0.16515376 0.17441412 0.17290679 0.20920417\n",
      "  0.20976904 0.21666925 0.24711449 0.26234396 0.19785288 0.1999106\n",
      "  0.22807416 0.18701073 0.24608339 0.13313483 0.17248326 0.27947979\n",
      "  0.23791578 0.21085268 0.24422282 0.21929885 0.21491013 0.21747694\n",
      "  0.21377715 0.15086927 0.38612329 0.46577428 0.37033518 0.46446297\n",
      "  0.46293756 0.5748261  0.43863704 0.38323103 0.44949076 0.44910035\n",
      "  0.39348657 0.57176001 0.45793017 0.53942125 0.44624253 0.43734513\n",
      "  0.53111962 0.50420578 0.4693304  0.46868069 0.44682134 0.52338179\n",
      "  0.44103737 0.528154   0.50605803 0.45772257 0.40134354 0.3492333\n",
      "  0.64280795 0.42869536 0.44847639 0.43581589 0.49640702 0.42734308\n",
      "  0.49229862 0.47119978 0.40915769 0.47935441 0.51080783 0.47945902\n",
      "  0.50650799 0.55689615 0.50777569 0.38623887 0.52990275 0.53123353\n",
      "  0.55337619 0.5640996  0.37201991 0.53592951 0.31812036 0.41353478\n",
      "  0.30013605 0.30279154 0.28078501 0.32861346 0.43033451 0.32322878\n",
      "  0.31700013 0.3206208  0.31434856 0.31841412 0.24040463 0.42030231\n",
      "  0.37966532 0.30096355 0.25555141 0.33198125 0.33380529 0.43371735\n",
      "  0.28760683 0.43265444 0.33199232 0.41284146 0.27596154 0.31338468\n",
      "  0.44425582 0.42754632 0.2812915  0.31752249 0.32151415 0.3328463\n",
      "  0.28688397 0.40274314 0.3724107  0.32508495 0.31398188 0.2790995\n",
      "  0.45759592 0.26620898 0.2827882  0.3109552  0.41353478 0.29424754\n",
      "  0.30062441 0.29202804 0.39119265 0.27890893 0.32510803 0.40888348]]\n"
     ]
    }
   ],
   "source": [
    "import skfuzzy as fuzz\n",
    "\n",
    "cntr, u_orig, _, _, _, _, _ = fuzz.cluster.cmeans(X.T, 3, 5, error=0.005, maxiter=1000)\n",
    "\n",
    "print(\"Centers : \",cntr)\n",
    "print(\"Weights\")\n",
    "print(u_orig)"
   ]
  },
  {
   "cell_type": "markdown",
   "metadata": {},
   "source": [
    "<!-- fig2, ax2 = plt.subplots()\n",
    "ax2.set_title('Fuzzy c-mean clustering')\n",
    "#u_orig = u_orig.T\n",
    "#print(u_orig)\n",
    "lab = u_orig.argmax(axis=0)\n",
    "clust = [[], [], []]\n",
    "for j in range(150):\n",
    "    clust[lab[j]].append(X[j])\n",
    "    \n",
    "for j in range(3) :\n",
    "    x = clust[j]\n",
    "    print(x[:][0])\n",
    "    ax2.plot(x[:][0],\n",
    "             x[:][1], 'o',\n",
    "             label='series ' + str(j)) -->"
   ]
  },
  {
   "cell_type": "markdown",
   "metadata": {},
   "source": [
    "## Hierarchical Clustering\n",
    "\n",
    "Hierarchical clustering is a type of clustering in which multiple clusters are defined in a feature space over a set of dat apoints in a hierarchical manner. The hierarchy of the clusters is represented as a dendrogram or tree structure. Hierarchical clustering algorithms mainly fall into the following two categories.\n",
    "\n",
    "- __Agglomerative hierarchical algorithms :__ In agglomerative hierarchical algorithms, each data point is treated as a single cluster, and small clusters successively merge or agglomerate (bottom-up approach) the to form large clusters. This process of creating cluster hierarchy follows a __bottom-up approach__.\n",
    "\n",
    "- __Divisive hierarchical algorithms :__ In divisive hierarchical algorithms, all the data points are treated as one big cluster and the process of clustering involves dividing the one big cluster into various small clusters. This process of creating cluster hierarchy follows a __top-down approach__."
   ]
  },
  {
   "cell_type": "markdown",
   "metadata": {},
   "source": [
    "We will be focussing more on agglomerative clustering to create a cluster hierarchy. The steps to perform agglomerative clustering is as follows −\n",
    "\n",
    "- Treat each data point as single cluster. Given $n$ data points in the feature space, the number of clusters will be $n$.\n",
    "- Merge the two clusters which are closest to each other to form a larger cluster that will be higher up in the hierarchy. Repeat this step until all clusters are merged to form a single big cluster.\n"
   ]
  },
  {
   "cell_type": "markdown",
   "metadata": {},
   "source": [
    "### Measuring Distance between Clusters\n",
    "\n",
    "In hierarchical clustering, one of the steps may include finding the distance between two clusters. The manner in which two clusters are linked together (__linkage__) is affected by the distance measure used between these clusters. \n",
    "\n",
    "Hierarchical clustering can be categorized based on linkage type as follows :\n",
    "\n",
    "- __Single-Linkage Clustering :__ Link between two clusters is decided based on the __minimum distance__ between any two data points of each cluster.\n",
    "- __Complete-Linkage Clustering :__ Link between two clusters is decided based on the __maximum distance__ between any two data points of each cluster.\n",
    "- __Average-Linkage Clustering :__ Link between two clusters is decided based on the __average distance__ with respect to all data points of each cluster.\n",
    "- __Centroid-Linkage Clustering :__ Link between two clusters is decided based on the __distance between the centroids__ of each cluster.\n"
   ]
  },
  {
   "cell_type": "code",
   "execution_count": 269,
   "metadata": {},
   "outputs": [],
   "source": [
    "import numpy as np\n",
    "import pandas as pd\n",
    "import matplotlib.pyplot as plt\n",
    "\n",
    "\n",
    "from sklearn.cluster import AgglomerativeClustering\n"
   ]
  },
  {
   "cell_type": "code",
   "execution_count": 270,
   "metadata": {},
   "outputs": [
    {
     "name": "stdout",
     "output_type": "stream",
     "text": [
      "Dataset Features :  ['sepal length (cm)', 'sepal width (cm)', 'petal length (cm)', 'petal width (cm)']\n",
      "Dataset Target :  ['setosa' 'versicolor' 'virginica']\n"
     ]
    }
   ],
   "source": [
    "from sklearn.datasets import load_iris\n",
    "\n",
    "iris = load_iris()\n",
    "X = iris.data[:, [2,3]]\n",
    "Y = iris.target\n",
    "\n",
    "print(\"Dataset Features : \", iris.feature_names)\n",
    "print(\"Dataset Target : \", iris.target_names)\n",
    "#|print('Dataset Size : ', X.shape, Y.shape)"
   ]
  },
  {
   "cell_type": "code",
   "execution_count": 271,
   "metadata": {},
   "outputs": [
    {
     "data": {
      "image/png": "[encoded data removed]",
      "text/plain": [
       "<Figure size 432x288 with 1 Axes>"
      ]
     },
     "metadata": {},
     "output_type": "display_data"
    }
   ],
   "source": [
    "with plt.style.context(\"ggplot\"):\n",
    "    plt.scatter(X[:,0], X[:, 1], c=Y)\n",
    "    plt.xlabel(iris.feature_names[2])\n",
    "    plt.ylabel(iris.feature_names[3])\n",
    "    plt.title(\"IRIS Dataset\")"
   ]
  },
  {
   "cell_type": "code",
   "execution_count": 278,
   "metadata": {},
   "outputs": [
    {
     "data": {
      "text/plain": [
       "array([1, 1, 1, 1, 1, 1, 1, 1, 1, 1, 1, 1, 1, 1, 1, 1, 1, 1, 1, 1, 1, 1,\n",
       "       1, 1, 1, 1, 1, 1, 1, 1, 1, 1, 1, 1, 1, 1, 1, 1, 1, 1, 1, 1, 1, 1,\n",
       "       1, 1, 1, 1, 1, 1, 0, 0, 0, 0, 0, 0, 0, 0, 0, 0, 0, 0, 0, 0, 0, 0,\n",
       "       0, 0, 0, 0, 0, 0, 0, 0, 0, 0, 0, 0, 0, 0, 0, 0, 0, 0, 0, 0, 0, 0,\n",
       "       0, 0, 0, 0, 0, 0, 0, 0, 0, 0, 0, 0, 0, 0, 0, 0, 0, 0, 0, 0, 0, 0,\n",
       "       0, 0, 0, 0, 0, 0, 0, 0, 0, 0, 0, 0, 0, 0, 0, 0, 0, 0, 0, 0, 0, 0,\n",
       "       0, 0, 2, 0, 0, 0, 0, 0, 0, 0, 0, 0, 0, 0, 0, 0, 0, 0])"
      ]
     },
     "execution_count": 278,
     "metadata": {},
     "output_type": "execute_result"
    }
   ],
   "source": [
    "clustering = AgglomerativeClustering(n_clusters=3, linkage=\"single\", affinity = 'manhattan')\n",
    "Y_preds = clustering.fit_predict(X)\n",
    "\n",
    "Y_preds"
   ]
  },
  {
   "cell_type": "code",
   "execution_count": 279,
   "metadata": {},
   "outputs": [
    {
     "data": {
      "text/plain": [
       "0.5657466140922338"
      ]
     },
     "execution_count": 279,
     "metadata": {},
     "output_type": "execute_result"
    }
   ],
   "source": [
    "from sklearn.metrics import adjusted_rand_score\n",
    "\n",
    "adjusted_rand_score(Y, Y_preds)"
   ]
  },
  {
   "cell_type": "code",
   "execution_count": 281,
   "metadata": {},
   "outputs": [
    {
     "data": {
      "image/png": "[encoded data removed]",
      "text/plain": [
       "<Figure size 432x288 with 1 Axes>"
      ]
     },
     "metadata": {
      "needs_background": "light"
     },
     "output_type": "display_data"
    }
   ],
   "source": [
    "clustering = AgglomerativeClustering(n_clusters = None, linkage=\"average\", affinity = 'euclidean', distance_threshold= 0.5)\n",
    "agg_result = clustering.fit(X)\n",
    "\n",
    "clustering = pd.Series(agg_result.labels_, name='class')\n",
    "distribution = clustering.value_counts()\n",
    "#print(distribution)\n",
    "\n",
    "_ = distribution.plot(kind='bar')"
   ]
  },
  {
   "cell_type": "code",
   "execution_count": 286,
   "metadata": {},
   "outputs": [
    {
     "data": {
      "text/plain": [
       "array([[  0.,   1.,   0.,   2.],\n",
       "       [  4., 150.,   0.,   3.],\n",
       "       [  2.,  36.,   0.,   2.],\n",
       "       [  3.,   7.,   0.,   2.],\n",
       "       [  8., 151.,   0.,   4.],\n",
       "       [  6.,  17.,   0.,   2.],\n",
       "       [ 10., 153.,   0.,   3.],\n",
       "       [ 28., 154.,   0.,   5.],\n",
       "       [  9.,  32.,   0.,   2.],\n",
       "       [ 27., 156.,   0.,   4.]])"
      ]
     },
     "execution_count": 286,
     "metadata": {},
     "output_type": "execute_result"
    }
   ],
   "source": [
    "#Using scipy\n",
    "import scipy\n",
    "from scipy.cluster import hierarchy\n",
    "\n",
    "\n",
    "#clusters = hierarchy.linkage(X, method=\"average\", metric='euclidean')\n",
    "#clusters = hierarchy.linkage(X, method=\"average\", metric='cityblock')\n",
    "clusters = hierarchy.linkage(X, method=\"average\")\n",
    "\n",
    "clusters[:10]"
   ]
  },
  {
   "cell_type": "code",
   "execution_count": 287,
   "metadata": {
    "scrolled": false
   },
   "outputs": [
    {
     "data": {
      "image/png": "[encoded data removed]",
      "text/plain": [
       "<Figure size 1440x432 with 1 Axes>"
      ]
     },
     "metadata": {
      "needs_background": "light"
     },
     "output_type": "display_data"
    }
   ],
   "source": [
    "def plot_dendrogram(clusters):\n",
    "    plt.figure(figsize=(20,6))\n",
    "    dendrogram = hierarchy.dendrogram(clusters, labels=Y, orientation=\"top\",leaf_font_size=9, leaf_rotation=360)\n",
    "    plt.ylabel('Euclidean Distance');\n",
    "\n",
    "plot_dendrogram(clusters)"
   ]
  },
  {
   "cell_type": "code",
   "execution_count": null,
   "metadata": {},
   "outputs": [],
   "source": []
  },
  {
   "cell_type": "markdown",
   "metadata": {},
   "source": [
    "<!-- # Show 3-cluster model\n",
    "fig2, ax2 = plt.subplots()\n",
    "ax2.set_title('Fuzzy c-mean clustering')\n",
    "u_orig = u_orig.T\n",
    "for j in range(150):\n",
    "    print(u_orig[j])\n",
    "    ind = u_orig[j].argmax(axis=0)\n",
    "    print(ind)\n",
    "    ax2.plot(X[u_orig[j].argmax(axis=0)][0],\n",
    "             X[u_orig[j].argmax(axis=0) == j][1], 'o',\n",
    "             label='series ' + str(j))\n",
    "ax2.legend() -->"
   ]
  },
  {
   "cell_type": "markdown",
   "metadata": {},
   "source": [
    "<!-- import numpy as np\n",
    "import matplotlib.pyplot as plt\n",
    "import skfuzzy as fuzz\n",
    "\n",
    "colors = ['b', 'orange', 'g', 'r', 'c', 'm', 'y', 'k', 'Brown', 'ForestGreen']\n",
    "\n",
    "# Define three cluster centers\n",
    "centers = [[4, 2],\n",
    "           [1, 7],\n",
    "           [5, 6]]\n",
    "\n",
    "# Define three cluster sigmas in x and y, respectively\n",
    "sigmas = [[0.8, 0.3],\n",
    "          [0.3, 0.5],\n",
    "          [1.1, 0.7]]\n",
    "\n",
    "# Generate test data\n",
    "np.random.seed(42)  # Set seed for reproducibility\n",
    "xpts = np.zeros(1)\n",
    "ypts = np.zeros(1)\n",
    "labels = np.zeros(1)\n",
    "for i, ((xmu, ymu), (xsigma, ysigma)) in enumerate(zip(centers, sigmas)):\n",
    "    xpts = np.hstack((xpts, np.random.standard_normal(200) * xsigma + xmu))\n",
    "    ypts = np.hstack((ypts, np.random.standard_normal(200) * ysigma + ymu))\n",
    "    labels = np.hstack((labels, np.ones(200) * i))\n",
    "\n",
    "# Visualize the test data\n",
    "fig0, ax0 = plt.subplots()\n",
    "for label in range(3):\n",
    "    ax0.plot(xpts[labels == label], ypts[labels == label], '.',\n",
    "             color=colors[label])\n",
    "ax0.set_title('Test data: 200 points x3 clusters.') -->"
   ]
  },
  {
   "cell_type": "markdown",
   "metadata": {},
   "source": [
    "<!-- # Set up the loop and plot\n",
    "fig1, axes1 = plt.subplots(3, 3, figsize=(8, 8))\n",
    "print(axes1[2][2])\n",
    "alldata = np.vstack((xpts, ypts))\n",
    "fpcs = []\n",
    "\n",
    "for ncenters, ax in enumerate(axes1.reshape(-1), 2):\n",
    "    cntr, u, u0, d, jm, p, fpc = fuzz.cluster.cmeans(\n",
    "        alldata, ncenters, 2, error=0.005, maxiter=1000, init=None)\n",
    "\n",
    "    # Store fpc values for later\n",
    "    fpcs.append(fpc)\n",
    "\n",
    "    # Plot assigned clusters, for each data point in training set\n",
    "    cluster_membership = np.argmax(u, axis=0)\n",
    "    for j in range(ncenters):\n",
    "        ax.plot(xpts[cluster_membership == j],\n",
    "                ypts[cluster_membership == j], '.', color=colors[j])\n",
    "\n",
    "    # Mark the center of each fuzzy cluster\n",
    "    for pt in cntr:\n",
    "        ax.plot(pt[0], pt[1], 'rs')\n",
    "\n",
    "    ax.set_title('Centers = {0}; FPC = {1:.2f}'.format(ncenters, fpc))\n",
    "    ax.axis('off')\n",
    "\n",
    "fig1.tight_layout()\n",
    " -->"
   ]
  }
 ],
 "metadata": {
  "kernelspec": {
   "display_name": "Python 3",
   "language": "python",
   "name": "python3"
  },
  "language_info": {
   "codemirror_mode": {
    "name": "ipython",
    "version": 3
   },
   "file_extension": ".py",
   "mimetype": "text/x-python",
   "name": "python",
   "nbconvert_exporter": "python",
   "pygments_lexer": "ipython3",
   "version": "3.8.10"
  }
 },
 "nbformat": 4,
 "nbformat_minor": 4
}
