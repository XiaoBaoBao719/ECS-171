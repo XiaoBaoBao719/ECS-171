{
 "cells": [
  {
   "cell_type": "markdown",
   "id": "d5c167fa",
   "metadata": {
    "slideshow": {
     "slide_type": "slide"
    }
   },
   "source": [
    "# Discussion 03 - Classification, Feed-Forward Neural Networks, Backpropagation"
   ]
  },
  {
   "cell_type": "markdown",
   "id": "b2fc87b6",
   "metadata": {
    "slideshow": {
     "slide_type": "slide"
    }
   },
   "source": [
    "### Goals\n",
    "\n",
    "<!-- - What is Classification? -->\n",
    "- Maximum Likelihood Estimation for Logistic Regression\n",
    "- Newton's Method\n",
    "- Single Perceptron Model\n",
    "- Multi-layer Perceptron Model\n",
    "- Data Pre-processing\n",
    "    - Normalization\n",
    "    - One-hot Encoding\n",
    "- Activation Function\n",
    "    - Sigmoid\n",
    "    - ReLU\n",
    "    - Leaky ReLU\n",
    "    \n",
    "Instructor : Bharath Kinnal"
   ]
  },
  {
   "cell_type": "markdown",
   "id": "c7dbb567",
   "metadata": {
    "slideshow": {
     "slide_type": "slide"
    }
   },
   "source": [
    "<!-- ## What is Classification\n",
    "Classification is to a predictive modeling problem where a given example of input data is predicted to be in a particular category. To model a classifier, a training dataset is required with many examples of inputs and outputs from which to learn. There are four main types of classification models :\n",
    "\n",
    "- __Binary Classifier :__\n",
    "    Classifies the input data into one of 2 classes\n",
    "- __Multi-Class Classifier :__\n",
    "    Classifies the input data into one of multiple classes\n",
    "- __Multi-Label Classifier :__\n",
    "    Classifies the input data into one or more classes\n",
    "- __Imbalanced Classifier :__\n",
    "    Similar to binary classifiers, but the majority of training data belong to one class while a minority of the training data belong to the other class.\n",
    "\n",
    "It can be seen that Logistic Regression is an example of a binary classifier. -->"
   ]
  },
  {
   "cell_type": "markdown",
   "id": "c4a5e68a",
   "metadata": {},
   "source": [
    "## Maximum Likelihood Estimation for Logistic Regression\n",
    "\n",
    "Binary classification using logistic regression mainly involves using the sigmoid function to find the probabilities of the output data to be either 0 and 1. For the model to accurately predict output variable as 0 or 1, we need to find the best fit sigmoid curve, that is, we need to create an efficient boundary between the 0 and 1 values. A cost function which maximizes the likelihood of getting desired output values, is called as Maximum Likelihood Estimation (MLE) function.\n"
   ]
  },
  {
   "cell_type": "markdown",
   "id": "a04d5c06",
   "metadata": {},
   "source": [
    "Given the input data $x_i$, the probability of getting the output $y_i$ will be $p(y_i|x_i,w_i) = (g(x_i, w_i))^{y_i} \\cdot (1 - g(x_i, w_i))^{1 - y_i}$, where $g()$ is the sigmoid function. So, for all input data $X = [x_1, x_2, \\dots, x_n]$, the likelihood/probability of getting the output vector $Y = [y_1, y_2, \\dots, y_n]$ is given below :\n",
    "\n",
    "$$\\text{Likelihood, }P(Y|X,W) = \\prod^{n}_{i=1} (g(x_i, w_i))^{y_i} \\cdot (1 - g(x_i, w_i))^{1 - y_i}$$\n",
    "\n",
    "$$\\text{Log-Likelihood, }l(W) = log(P(Y|X,W)) = \\sum^{n}_{i=1} y_i log(g(x_i, w_i)) + (1 - y_i) log(1 - g(x_i, w_i))$$\n",
    "\n",
    "Optimizing the regression model involves maximizing the value of $l(W)$. This can be done by updating the weights through gradient descent (or ascent) as follows :\n",
    "\n",
    "$$w^{n+1}_{i} = w^{n}_i + \\alpha(y_i - g(x_i,w^{n}_i))x_i$$\n",
    "\n",
    "where $\\alpha$ is the learning rate. The weight $w_i$ is updated until convergence is reached."
   ]
  },
  {
   "cell_type": "code",
   "execution_count": 2,
   "id": "8599deff",
   "metadata": {
    "scrolled": true
   },
   "outputs": [
    {
     "name": "stdout",
     "output_type": "stream",
     "text": [
      "(21, 2)\n",
      "292.1237916181633\n"
     ]
    }
   ],
   "source": [
    "#Program to find numbers > 5\n",
    "import pandas as pd\n",
    "import numpy as np\n",
    "\n",
    "#Sigmoid Function\n",
    "def sigmoid(x):\n",
    "    return 1/(1 + np.exp(-x))\n",
    "\n",
    "def combination_function(X,W) :\n",
    "    if X.ndim == 1 :\n",
    "        Z = W * X\n",
    "    else :\n",
    "        Z = np.dot(X, W)\n",
    "    return Z\n",
    "\n",
    "#Log-Likelihood Function\n",
    "def log_likelihood(X, Y, W):\n",
    "    Z = combination_function(X,W)\n",
    "    #Z = np.dot(X, W)\n",
    "    ll = np.sum( Y*np.log(sigmoid(Z)) + (1-Y)*(1 - np.log(sigmoid(Z))))\n",
    "    return ll\n",
    "\n",
    "#Logistic Regression Function\n",
    "def logistic_regression(X, Y, num_steps = 500, learning_rate = 0.1, add_intercept = True):\n",
    "    if add_intercept:\n",
    "        intercept = np.ones((X.shape[0], 1))\n",
    "        X = np.column_stack((intercept, X))\n",
    "    \n",
    "    print(X.shape)\n",
    "    \n",
    "    if X.ndim == 1 :\n",
    "        weights = np.zeros(1)\n",
    "    else :\n",
    "        weights = np.zeros(X.shape[1])\n",
    "    \n",
    "    for step in range(num_steps):\n",
    "        scores = combination_function(X,weights)\n",
    "        predictions = sigmoid(scores)\n",
    "        \n",
    "        #print(predictions)\n",
    "        # Update weights with gradient\n",
    "        output_error_signal = Y - predictions\n",
    "        gradient = np.dot(output_error_signal.T, X)\n",
    "        weights += learning_rate * gradient\n",
    "        \n",
    "        \n",
    "    return X, weights\n",
    "\n",
    "X = np.linspace(-10, 10, 21)\n",
    "y = np.ones(21)\n",
    "y[:16] = 0\n",
    "\n",
    "w = np.zeros(21)\n",
    "y_pred = sigmoid(combination_function(X,w))\n",
    "\n",
    "X, w = logistic_regression(X,y)\n",
    "print(log_likelihood(X, y, w))\n",
    "#print(w)\n",
    "\n",
    "\n",
    "y_pred = sigmoid(combination_function(X,w))\n",
    "\n",
    "X = X[:, 1]"
   ]
  },
  {
   "cell_type": "code",
   "execution_count": 3,
   "id": "473b3c6b",
   "metadata": {},
   "outputs": [
    {
     "data": {
      "image/png": "[encoded data removed]",
      "text/plain": [
       "<Figure size 432x288 with 1 Axes>"
      ]
     },
     "metadata": {
      "needs_background": "light"
     },
     "output_type": "display_data"
    }
   ],
   "source": [
    "import matplotlib.pyplot as plt\n",
    "\n",
    "plt.xlabel(\"x\") \n",
    "plt.ylabel(\"y\") \n",
    "plt.plot(X, y, label = 'expected') \n",
    "plt.plot(X, y_pred, label = 'calculated') \n",
    "plt.legend()\n",
    "plt.show()"
   ]
  },
  {
   "cell_type": "markdown",
   "id": "6fa9df90",
   "metadata": {},
   "source": [
    "### Newton's Method\n",
    "In order to find a value of $w$ such that the log-likelihood $l(w)$ is maximum, the first-order derivative $l'(w) = 0$. Newton's Method (or Newton-Raphson Method) is a root-finding algorithm that uses the first few terms of the Taylor series of the function $l(w)$ about a point $w$. Starting with an arbitrary weight $w^0_i$, the weight can be optimized to give better value of $l(w_i)$ using the following update rule :\n",
    "\n",
    "$$w_i^{n+1} = w_i^{n} + \\eta \\frac{\\frac{\\delta l(w_i)}{\\delta w_i}}{\\frac{\\delta^2 l(w_i)}{(\\delta w_i)^2}}$$\n",
    "\n",
    "An intuitive explanation can be shown in the following representation below. Here, considering the function $f(x) = l'(x)$, we can see that the value of $l'(x)$ converges to 0 at $x = x_5$."
   ]
  },
  {
   "cell_type": "markdown",
   "id": "7d7943a7",
   "metadata": {},
   "source": [
    "![](https://upload.wikimedia.org/wikipedia/commons/e/e0/NewtonIteration_Ani.gif)\n",
    "\n"
   ]
  },
  {
   "cell_type": "markdown",
   "id": "d8ee7a14",
   "metadata": {},
   "source": [
    "## Single Perceptron Model\n",
    "\n",
    "The perceptron model calculates the weighted sum of the input, and then returns 1 if the weighted sum is more\n",
    "than a threshold, or less returns 0.\n",
    "\n",
    "Given an input $X = \\begin{pmatrix} x_1 \\\\ x_2 \\\\ \\vdots \\\\ x_n \\end{pmatrix}$ to a single perceptron, the output $y$ can be calcluated as follows :\n",
    "\n",
    "$$z = W^T X = w_0 + w_1 x_1 + w_2 x_2 + \\dots + w_n x_n$$\n",
    "\n",
    "$$y = \\begin{cases}\n",
    "      1 & \\text{if $z \\ge threshold$}\\\\\n",
    "      0 & \\text{if $z < threshold$}\n",
    "    \\end{cases}$$\n",
    "\n",
    "Here, $W = \\begin{pmatrix} w_0 \\\\ w_1 \\\\ w_2 \\\\ \\vdots \\\\ w_n \\end{pmatrix}$ are the weights asssociated with the perceptron, and they are the parameters that need to be optimized during training. \n",
    "\n",
    "The weights are updated in each iteration (epoch) as follows :\n",
    "\n",
    "$$w^{n+1}_{i} = w^{n}_i + \\alpha(y_i - g(x_i,w^{n}_i))x_i$$\n",
    "\n",
    "The weight $w_0$ is the __bias__ associated with the perceptron, which allows the perceptron to give a non-zero output even when the input is 0."
   ]
  },
  {
   "cell_type": "markdown",
   "id": "5d7b50bd",
   "metadata": {},
   "source": [
    "The Perceptron and Logistic Regression models are motivated from two very different directions. Perceptron is essentially defined by its update rule. If the data are linearly separable, perceptron is guaranteed to converge, as the perceptron makes non-zero (and non-vanishing) progress towards a separating solution on every update. \n",
    "\n",
    "By contrast, logistic regression is instead motivated from a probabilistic perspective, and the update comes from taking the gradient. Gradient-based optimization techniques are guaranteed to converge, but the likelihood can never truly be maximized with a finite set of weights."
   ]
  },
  {
   "cell_type": "code",
   "execution_count": 135,
   "id": "53f48166",
   "metadata": {
    "scrolled": true
   },
   "outputs": [
    {
     "name": "stdout",
     "output_type": "stream",
     "text": [
      "AND Gate\n",
      "Loss =  [0 0 0 0]\n",
      "Weights =  [0.4 0.4 0.4]\n",
      "Final Accuracy =  1.0\n",
      "OR Gate\n",
      "Loss =  [0 0 0 0]\n",
      "Weights =  [0.8 0.5 0.5]\n",
      "Final Accuracy =  1.0\n",
      "XOR Gate\n",
      "Loss =  [-1  0  0 -1]\n",
      "Weights =  [9.00000000e-01 2.77555756e-17 2.77555756e-17]\n",
      "Final Accuracy =  0.5\n"
     ]
    }
   ],
   "source": [
    "#Single Perceptron Model for AND gate\n",
    "\n",
    "X = np.asarray([[0,0], [0,1], [1,0], [1,1]])\n",
    "AND_gate = [0, 0, 0, 1]\n",
    "OR_gate = [0, 1, 1, 1]\n",
    "XOR_gate = [0, 1, 1, 0]\n",
    "w = [0,0,0]\n",
    "\n",
    "def feed_forward(x, w) :\n",
    "    thresh = 1\n",
    "    \n",
    "    z = np.dot(x,w)\n",
    "    #sum([x[i] * w[i] for i in range(len(x))])\n",
    "    #z += w[-1]\n",
    "    \n",
    "    y = 1 * (z>thresh)\n",
    "    #print(y)\n",
    "    return y\n",
    "\n",
    "def train(X, w, expected, alpha = 0.1, epoch = 50) :\n",
    "    X = np.column_stack((np.ones(X.shape[0]), X))\n",
    "    #print(X)\n",
    "    accuracy = 0\n",
    "    for n in range(epoch) :\n",
    "#         for i in range(len(X)) :\n",
    "#             x = X[i]\n",
    "#             # Add bias\n",
    "#             np.insert(x,0,1)\n",
    "#             print(x)\n",
    "\n",
    "        y = feed_forward(X,w)\n",
    "\n",
    "        w = w + alpha * np.dot((expected - y), X)\n",
    "        #w = [w[j] + alpha * (expected[i] - y) * x[j] for j in range(len(x))]\n",
    "        #print('Loss = ', expected - y)\n",
    "        #print('Weights = ', w)\n",
    "        \n",
    "        accuracy = (4 - abs(sum(expected - y)))/4\n",
    "    \n",
    "    print('Loss = ', expected - y)\n",
    "    print('Weights = ', w)\n",
    "    print('Final Accuracy = ', accuracy)\n",
    "    #display_linear_separation(X,w,)\n",
    "\n",
    "print('AND Gate')\n",
    "train(X,w, AND_gate)\n",
    "print('OR Gate')\n",
    "train(X,w, OR_gate)\n",
    "print('XOR Gate')\n",
    "train(X,w, XOR_gate)\n"
   ]
  },
  {
   "cell_type": "markdown",
   "id": "6fe85c46",
   "metadata": {},
   "source": [
    "## Multi-Layer Perceptron Model\n",
    "A neural network, also called a Multi-Layer-Perceptron (MLP), consists of a layered, feedforward, completely-connected network of neurons. There are mainly 3 types of layers in a neural network :\n",
    "- __Input layer :__ The number of nodes depends on the number and types of dataset attributes\n",
    "- __Output layer :__ The number of nodes may be more than 1 depending on the classification task.\n",
    "- __Hidden layer :__ The number of nodes depends on the complexity of the pattern, and is determined mainly through trial and error. A neural network without a hidden layer is a perceptron model. \n",
    "\n",
    "<!-- A Feed-Forward NN (FFNN) is composed of two or more layers, but mostly 3 layers, with activation functions usually step or logistic function.  -->\n",
    "The activation function in NN makes them non-linear regressors. A NN without an activation function is a linear regressor. The final layer can be another logistic regression/perceptron or a linear regression model depending whether it is a classification or regression problem.\n",
    "\n"
   ]
  },
  {
   "cell_type": "markdown",
   "id": "748f253e",
   "metadata": {},
   "source": [
    "Given an input $X = \\begin{pmatrix} x_1 \\\\ x_2 \\\\ \\vdots \\\\ x_n \\end{pmatrix}$ to a neuron, the output $y$ can be calcluated as follows :\n",
    "\n",
    "$$z = W^T X = w_0 + w_1 x_1 + w_2 x_2 + \\dots + w_n x_n$$\n",
    "\n",
    "$$y = Act(z)\n",
    "%     \\begin{cases}\n",
    "%       1 & \\text{if $Act(z) \\ge threshold$}\\\\\n",
    "%       0 & \\text{if $ < threshold$}\n",
    "%     \\end{cases}$$\n",
    "\n",
    "Here, $Act()$ is the activation function used by the neuron, and $W = \\begin{pmatrix} w_0 \\\\ w_1 \\\\ w_2 \\\\ \\vdots \\\\ w_n \\end{pmatrix}$ are the weights associated with the neuron. "
   ]
  },
  {
   "cell_type": "markdown",
   "id": "f0ede919",
   "metadata": {},
   "source": [
    "Here's an example of a multi-layer perceptron classifier using sklearn. Here, we will use the Iris dataset and MLPClassifier function from the Sci-Kit Learn library."
   ]
  },
  {
   "cell_type": "markdown",
   "id": "5ba30361",
   "metadata": {},
   "source": [
    "<!-- Load the input data `X` and output class data `y` from the Iris dataset, and split it into training and testing data (usually a 70:30 or 80:20 split).  -->"
   ]
  },
  {
   "cell_type": "code",
   "execution_count": 121,
   "id": "4c14459b",
   "metadata": {},
   "outputs": [
    {
     "name": "stdout",
     "output_type": "stream",
     "text": [
      "     sepal length (cm)  sepal width (cm)  petal length (cm)  petal width (cm)\n",
      "0                  5.1               3.5                1.4               0.2\n",
      "1                  4.9               3.0                1.4               0.2\n",
      "2                  4.7               3.2                1.3               0.2\n",
      "3                  4.6               3.1                1.5               0.2\n",
      "4                  5.0               3.6                1.4               0.2\n",
      "..                 ...               ...                ...               ...\n",
      "145                6.7               3.0                5.2               2.3\n",
      "146                6.3               2.5                5.0               1.9\n",
      "147                6.5               3.0                5.2               2.0\n",
      "148                6.2               3.4                5.4               2.3\n",
      "149                5.9               3.0                5.1               1.8\n",
      "\n",
      "[150 rows x 4 columns]\n",
      "[0 0 0 0 0 0 0 0 0 0 0 0 0 0 0 0 0 0 0 0 0 0 0 0 0 0 0 0 0 0 0 0 0 0 0 0 0\n",
      " 0 0 0 0 0 0 0 0 0 0 0 0 0 1 1 1 1 1 1 1 1 1 1 1 1 1 1 1 1 1 1 1 1 1 1 1 1\n",
      " 1 1 1 1 1 1 1 1 1 1 1 1 1 1 1 1 1 1 1 1 1 1 1 1 1 1 2 2 2 2 2 2 2 2 2 2 2\n",
      " 2 2 2 2 2 2 2 2 2 2 2 2 2 2 2 2 2 2 2 2 2 2 2 2 2 2 2 2 2 2 2 2 2 2 2 2 2\n",
      " 2 2]\n"
     ]
    }
   ],
   "source": [
    "import pandas as pd\n",
    "from sklearn.datasets import load_iris\n",
    "\n",
    "iris_data = load_iris()\n",
    "X = pd.DataFrame(iris_data.data, columns=iris_data.feature_names)\n",
    "y = iris_data.target\n",
    "\n",
    "print(X)\n",
    "print(y)"
   ]
  },
  {
   "cell_type": "code",
   "execution_count": 116,
   "id": "d3342a13",
   "metadata": {},
   "outputs": [],
   "source": [
    "from sklearn.model_selection import train_test_split\n",
    "from sklearn.preprocessing import MinMaxScaler\n",
    "\n",
    "X_train, X_test, y_train, y_test = train_test_split(X,y,random_state=1, test_size=0.2)\n",
    "sc_X = MinMaxScaler()\n",
    "X_trainscaled=sc_X.fit_transform(X_train)\n",
    "X_testscaled=sc_X.fit_transform(X_test)"
   ]
  },
  {
   "cell_type": "code",
   "execution_count": 198,
   "id": "94ff26fe",
   "metadata": {},
   "outputs": [
    {
     "name": "stdout",
     "output_type": "stream",
     "text": [
      "0.9333333333333333\n"
     ]
    }
   ],
   "source": [
    "from sklearn.neural_network import MLPClassifier\n",
    "\n",
    "clf = MLPClassifier(hidden_layer_sizes=(256, 128, 64, 32),activation=\"relu\",solver = 'sgd', max_iter = 2000, random_state=1)\n",
    "clf.fit(X_trainscaled, y_train)\n",
    "y_pred = clf.predict(X_testscaled) \n",
    "print(clf.score(X_testscaled, y_test))"
   ]
  },
  {
   "cell_type": "markdown",
   "id": "4f7b510f",
   "metadata": {},
   "source": [
    "## Data Pre-processing\n",
    "In this section, we will be discussing about how and why the input data is processed before it is passed through the classifier. It is used to make the data readable to the classifier, and to make each feature equally important for classification. In general, all attributes (continuous and categorical variables) must be encoded in a standardized manner, taking values between 0 and 1.\n",
    "\n"
   ]
  },
  {
   "cell_type": "markdown",
   "id": "ad4ca860",
   "metadata": {},
   "source": [
    "### Min-Max Normalization\n",
    "Min-max normalization is a data normalization technique that scales numeric data between the range 0 to 1. For any continuous variable $x$ lying within the range $[x_{min}, x_{max}]$, the scaled variable $x_{scaled}$ can be calculated as follows :\n",
    "$$x_{scaled} = \\frac{x - x_{min}}{x_{max} - x_{min}}$$"
   ]
  },
  {
   "cell_type": "code",
   "execution_count": 84,
   "id": "37090189",
   "metadata": {},
   "outputs": [
    {
     "name": "stdout",
     "output_type": "stream",
     "text": [
      "[100, 90, 85, 70, 50]\n",
      "[1.0, 0.8, 0.7, 0.4, 0.0]\n"
     ]
    }
   ],
   "source": [
    "# Example for min-max normalization :\n",
    "#from sklearn.preprocessing import MinMaxScaler\n",
    "\n",
    "import numpy as np\n",
    "def min_max_normalization(x) :\n",
    "    x_min = min(x)\n",
    "    x_max = max(x)\n",
    "    x = [(a - x_min)/(x_max - x_min) for a in x]\n",
    "    return x\n",
    "\n",
    "grades = [100, 90, 85, 70, 50]\n",
    "print(grades)\n",
    "print(min_max_normalization(grades))\n"
   ]
  },
  {
   "cell_type": "markdown",
   "id": "9ffed652",
   "metadata": {},
   "source": [
    "### One-Hot Encoding\n",
    "One hot encoding is a data processing method to convert each categorical value as a vector of binary values, where only the index of the observed category is set to 1. One of the main reasons why categorical data needs to be one-hot encoded is that categorical data is unreadable to most machine learning model.\n",
    "\n",
    "There are 2 steps involved while converting categorical data into one-hot binary arrays\n",
    "- Assign each unique category value to an integer value.\n",
    "- Assign a new binary vector for each unique integer value."
   ]
  },
  {
   "cell_type": "code",
   "execution_count": 54,
   "id": "9d6d050f",
   "metadata": {},
   "outputs": [
    {
     "name": "stdout",
     "output_type": "stream",
     "text": [
      "['dog' 'cat' 'sheep' 'lizard' 'lizard' 'cat' 'lizard' 'dog' 'dog' 'cow']\n",
      "[2 0 4 3 3 0 3 2 2 1]\n",
      "[[0. 0. 1. 0. 0.]\n",
      " [1. 0. 0. 0. 0.]\n",
      " [0. 0. 0. 0. 1.]\n",
      " [0. 0. 0. 1. 0.]\n",
      " [0. 0. 0. 1. 0.]\n",
      " [1. 0. 0. 0. 0.]\n",
      " [0. 0. 0. 1. 0.]\n",
      " [0. 0. 1. 0. 0.]\n",
      " [0. 0. 1. 0. 0.]\n",
      " [0. 1. 0. 0. 0.]]\n"
     ]
    },
    {
     "name": "stderr",
     "output_type": "stream",
     "text": [
      "/home/bharath/intel/intelpython3/lib/python3.6/site-packages/sklearn/preprocessing/_encoders.py:415: FutureWarning: The handling of integer data will change in version 0.22. Currently, the categories are determined based on the range [0, max(values)], while in the future they will be determined based on the unique values.\n",
      "If you want the future behaviour and silence this warning, you can specify \"categories='auto'\".\n",
      "In case you used a LabelEncoder before this OneHotEncoder to convert the categories to integers, then you can now use the OneHotEncoder directly.\n",
      "  warnings.warn(msg, FutureWarning)\n"
     ]
    }
   ],
   "source": [
    "from numpy import array \n",
    "from numpy import argmax \n",
    "from sklearn.preprocessing import LabelEncoder \n",
    "from sklearn.preprocessing import OneHotEncoder\n",
    " \n",
    "myData = [ 'dog' , 'cat' , 'sheep' , 'lizard' , 'lizard' , 'cat' , 'lizard' , 'dog' , 'dog' , 'cow' ]\n",
    " \n",
    "# convert to an array\n",
    "myData = array(myData)\n",
    "print(myData)\n",
    "\n",
    "# encode as integers\n",
    "myData_encoder = LabelEncoder()\n",
    "myData_encoded =  myData_encoder.fit_transform(myData) \n",
    "print (myData_encoded)\n",
    " \n",
    "# binary encode\n",
    "onehot_encoder = OneHotEncoder(sparse=False) # disable sparse return type\n",
    "# reshape the array\n",
    "myData_encoded = myData_encoded.reshape(len(myData_encoded), 1) \n",
    "onehot_encoded = onehot_encoder.fit_transform(myData_encoded) \n",
    " \n",
    "print(onehot_encoded)"
   ]
  },
  {
   "cell_type": "markdown",
   "id": "2d3841f1",
   "metadata": {},
   "source": [
    "## Activation Function\n",
    "An activation function is a mathematical function that controls the output of a neural network. Activation functions help in determining whether a neuron is to be fired or not. Some popular activation functions are :\n",
    "- Sigmoid Function\n",
    "- ReLU\n",
    "- Leaky ReLU\n",
    "\n",
    "Activation is responsible for adding non-linearity to the output of a neural network model. Without an activation function, a neural network is simply a linear regression.\n",
    "\n"
   ]
  },
  {
   "cell_type": "markdown",
   "id": "9388faa5",
   "metadata": {},
   "source": [
    "#### Sigmoid Function\n",
    "It's an activation function that returns a value between 0 and 1. "
   ]
  },
  {
   "cell_type": "code",
   "execution_count": 4,
   "id": "d834a437",
   "metadata": {},
   "outputs": [],
   "source": [
    "import numpy as np \n",
    "def sig(x):\n",
    "    return 1/(1 + np.exp(-x))"
   ]
  },
  {
   "cell_type": "markdown",
   "id": "87c2bb2b",
   "metadata": {},
   "source": [
    "One of the disadvantages of the sigmoid function is that towards the end regions the Y values respond very less to the change in X values. This results in a problem known as the vanishing gradient problem, which slows down the learning process and hence is undesirable."
   ]
  },
  {
   "cell_type": "markdown",
   "id": "1b2cf1e2",
   "metadata": {},
   "source": [
    "#### Rectified Linear Unit (ReLU)\n",
    "The ReLU activation function returns 0 if the input is negative otherwise return the input as it is."
   ]
  },
  {
   "cell_type": "code",
   "execution_count": 5,
   "id": "15155940",
   "metadata": {},
   "outputs": [],
   "source": [
    "def relu(x):\n",
    "    return 0.2 * x * (x > 0)"
   ]
  },
  {
   "cell_type": "markdown",
   "id": "84792023",
   "metadata": {},
   "source": [
    "The problem with ReLU is that the gradient for negative inputs comes out to be zero. This again leads to the problem of vanishing gradient (zero-gradient) for negative inputs."
   ]
  },
  {
   "cell_type": "markdown",
   "id": "52de5298",
   "metadata": {},
   "source": [
    "#### Leaky ReLU\n",
    "The ReLU activation function returns 0 if the input is negative otherwise return the input as it is."
   ]
  },
  {
   "cell_type": "code",
   "execution_count": 6,
   "id": "11f3c816",
   "metadata": {},
   "outputs": [],
   "source": [
    "def leaky_relu(x):\n",
    "    return (0.2 * x * (x >= 0)) + ((0.1 * x) * (x < 0))"
   ]
  },
  {
   "cell_type": "code",
   "execution_count": 138,
   "id": "b4df8f09",
   "metadata": {},
   "outputs": [
    {
     "data": {
      "image/png": "[encoded data removed]",
      "text/plain": [
       "<Figure size 432x288 with 1 Axes>"
      ]
     },
     "metadata": {
      "needs_background": "light"
     },
     "output_type": "display_data"
    }
   ],
   "source": [
    "import matplotlib.pyplot as plt\n",
    "#plt.ion()\n",
    "\n",
    "x = np.linspace(-10, 10, 100)   \n",
    "s = sig(x)\n",
    "\n",
    "plt.plot(x, s, label = 'sigmoid') \n",
    "#plt.show()\n",
    "#plt.pause(0.0001)\n",
    "#plt.clf()\n",
    "\n",
    "r = relu(x)\n",
    "lr = leaky_relu(x)\n",
    "plt.xlabel(\"x\") \n",
    "plt.ylabel(\"Act(x)\")  \n",
    "plt.plot(x, r, label = 'relu') \n",
    "plt.plot(x, lr, label = 'leaky_relu') \n",
    "plt.legend()\n",
    "plt.show()"
   ]
  },
  {
   "cell_type": "markdown",
   "id": "8be50666",
   "metadata": {},
   "source": [
    "<!-- ## Training and Tetsing a Neural Network -->"
   ]
  },
  {
   "cell_type": "code",
   "execution_count": 249,
   "id": "4d7daffa",
   "metadata": {},
   "outputs": [],
   "source": [
    "# from sklearn.neural_network import MLPClassifier\n",
    "# from sklearn.datasets import make_classification\n",
    "# from sklearn.model_selection import train_test_split\n",
    "# X, y = make_classification(n_samples=100, random_state=1)\n",
    "# X_train, X_test, y_train, y_test = train_test_split(X, y, stratify=y,random_state=1)\n",
    "# clf = MLPClassifier(random_state=1, max_iter=300).fit(X_train, y_train)\n",
    "# clf.predict_proba(X_test[:1])\n",
    "# #array([[0.038..., 0.961...]])\n",
    "# clf.predict(X_test[:5, :])\n",
    "# clf.score(X_test, y_test)"
   ]
  },
  {
   "cell_type": "code",
   "execution_count": 192,
   "id": "22d31850",
   "metadata": {},
   "outputs": [],
   "source": [
    "# from sklearn.metrics import confusion_matrix\n",
    "# #rom sklearn.metrics import plot_confusion_matrix\n",
    "# import matplotlib.pyplot as plt\n",
    "\n",
    "# labels = [\"Setosa\",\"Versicolor\",\"Virginica\"]\n",
    "# fig=confusion_matrix(y_pred, y_test)\n",
    "# #fig.figure_.suptitle(\"Confusion Matrix for Iris Dataset\")\n",
    "# plt.show()"
   ]
  }
 ],
 "metadata": {
  "kernelspec": {
   "display_name": "Python 3",
   "language": "python",
   "name": "python3"
  },
  "language_info": {
   "codemirror_mode": {
    "name": "ipython",
    "version": 3
   },
   "file_extension": ".py",
   "mimetype": "text/x-python",
   "name": "python",
   "nbconvert_exporter": "python",
   "pygments_lexer": "ipython3",
   "version": "3.6.9"
  }
 },
 "nbformat": 4,
 "nbformat_minor": 5
}
