{
 "cells": [
  {
   "cell_type": "code",
   "execution_count": null,
   "id": "32421f75",
   "metadata": {},
   "outputs": [
    {
     "name": "stdout",
     "output_type": "stream",
     "text": [
      "Requirement already satisfied: keras in c:\\users\\xiao-\\anaconda3\\lib\\site-packages (2.4.3)\n",
      "Requirement already satisfied: scipy>=0.14 in c:\\users\\xiao-\\anaconda3\\lib\\site-packages (from keras) (1.6.2)\n",
      "Requirement already satisfied: numpy>=1.9.1 in c:\\users\\xiao-\\anaconda3\\lib\\site-packages (from keras) (1.20.1)\n",
      "Requirement already satisfied: h5py in c:\\users\\xiao-\\anaconda3\\lib\\site-packages (from keras) (2.10.0)\n",
      "Requirement already satisfied: pyyaml in c:\\users\\xiao-\\anaconda3\\lib\\site-packages (from keras) (5.4.1)\n",
      "Requirement already satisfied: six in c:\\users\\xiao-\\anaconda3\\lib\\site-packages (from h5py->keras) (1.15.0)\n"
     ]
    }
   ],
   "source": [
    "# Installs Keras library in the current Jupyter kernel\n",
    "import sys\n",
    "!{sys.executable} -m pip install keras\n",
    "\n",
    "!date\n",
    "!pwd"
   ]
  },
  {
   "cell_type": "code",
   "execution_count": 1,
   "id": "9d00e93d",
   "metadata": {},
   "outputs": [
    {
     "data": {
      "text/html": [
       "<div>\n",
       "<style scoped>\n",
       "    .dataframe tbody tr th:only-of-type {\n",
       "        vertical-align: middle;\n",
       "    }\n",
       "\n",
       "    .dataframe tbody tr th {\n",
       "        vertical-align: top;\n",
       "    }\n",
       "\n",
       "    .dataframe thead th {\n",
       "        text-align: right;\n",
       "    }\n",
       "</style>\n",
       "<table border=\"1\" class=\"dataframe\">\n",
       "  <thead>\n",
       "    <tr style=\"text-align: right;\">\n",
       "      <th></th>\n",
       "      <th>Area</th>\n",
       "      <th>Perimeter</th>\n",
       "      <th>MajorAxisLength</th>\n",
       "      <th>MinorAxisLength</th>\n",
       "      <th>AspectRation</th>\n",
       "      <th>Eccentricity</th>\n",
       "      <th>ConvexArea</th>\n",
       "      <th>EquivDiameter</th>\n",
       "      <th>Extent</th>\n",
       "      <th>Solidity</th>\n",
       "      <th>roundness</th>\n",
       "      <th>Compactness</th>\n",
       "      <th>ShapeFactor1</th>\n",
       "      <th>ShapeFactor2</th>\n",
       "      <th>ShapeFactor3</th>\n",
       "      <th>ShapeFactor4</th>\n",
       "      <th>Class</th>\n",
       "    </tr>\n",
       "  </thead>\n",
       "  <tbody>\n",
       "    <tr>\n",
       "      <th>0</th>\n",
       "      <td>44830</td>\n",
       "      <td>814.955</td>\n",
       "      <td>320.731947</td>\n",
       "      <td>178.405838</td>\n",
       "      <td>1.797766</td>\n",
       "      <td>0.831018</td>\n",
       "      <td>45297</td>\n",
       "      <td>238.912806</td>\n",
       "      <td>0.658877</td>\n",
       "      <td>0.989690</td>\n",
       "      <td>0.848226</td>\n",
       "      <td>0.744899</td>\n",
       "      <td>0.007154</td>\n",
       "      <td>0.001359</td>\n",
       "      <td>0.554874</td>\n",
       "      <td>0.997534</td>\n",
       "      <td>SIRA</td>\n",
       "    </tr>\n",
       "    <tr>\n",
       "      <th>1</th>\n",
       "      <td>33476</td>\n",
       "      <td>691.826</td>\n",
       "      <td>258.837971</td>\n",
       "      <td>165.220760</td>\n",
       "      <td>1.566619</td>\n",
       "      <td>0.769773</td>\n",
       "      <td>33907</td>\n",
       "      <td>206.453305</td>\n",
       "      <td>0.721155</td>\n",
       "      <td>0.987289</td>\n",
       "      <td>0.878921</td>\n",
       "      <td>0.797616</td>\n",
       "      <td>0.007732</td>\n",
       "      <td>0.001930</td>\n",
       "      <td>0.636191</td>\n",
       "      <td>0.996669</td>\n",
       "      <td>DERMASON</td>\n",
       "    </tr>\n",
       "    <tr>\n",
       "      <th>2</th>\n",
       "      <td>27057</td>\n",
       "      <td>606.138</td>\n",
       "      <td>227.460904</td>\n",
       "      <td>151.860320</td>\n",
       "      <td>1.497830</td>\n",
       "      <td>0.744491</td>\n",
       "      <td>27358</td>\n",
       "      <td>185.607226</td>\n",
       "      <td>0.801831</td>\n",
       "      <td>0.988998</td>\n",
       "      <td>0.925436</td>\n",
       "      <td>0.815996</td>\n",
       "      <td>0.008407</td>\n",
       "      <td>0.002299</td>\n",
       "      <td>0.665850</td>\n",
       "      <td>0.997330</td>\n",
       "      <td>DERMASON</td>\n",
       "    </tr>\n",
       "    <tr>\n",
       "      <th>3</th>\n",
       "      <td>49483</td>\n",
       "      <td>844.283</td>\n",
       "      <td>326.602913</td>\n",
       "      <td>194.689529</td>\n",
       "      <td>1.677558</td>\n",
       "      <td>0.802907</td>\n",
       "      <td>50289</td>\n",
       "      <td>251.005403</td>\n",
       "      <td>0.680179</td>\n",
       "      <td>0.983973</td>\n",
       "      <td>0.872348</td>\n",
       "      <td>0.768534</td>\n",
       "      <td>0.006600</td>\n",
       "      <td>0.001420</td>\n",
       "      <td>0.590644</td>\n",
       "      <td>0.990840</td>\n",
       "      <td>SIRA</td>\n",
       "    </tr>\n",
       "    <tr>\n",
       "      <th>4</th>\n",
       "      <td>22461</td>\n",
       "      <td>544.584</td>\n",
       "      <td>192.801303</td>\n",
       "      <td>148.541136</td>\n",
       "      <td>1.297966</td>\n",
       "      <td>0.637517</td>\n",
       "      <td>22699</td>\n",
       "      <td>169.110122</td>\n",
       "      <td>0.774731</td>\n",
       "      <td>0.989515</td>\n",
       "      <td>0.951720</td>\n",
       "      <td>0.877121</td>\n",
       "      <td>0.008584</td>\n",
       "      <td>0.003134</td>\n",
       "      <td>0.769342</td>\n",
       "      <td>0.998579</td>\n",
       "      <td>DERMASON</td>\n",
       "    </tr>\n",
       "  </tbody>\n",
       "</table>\n",
       "</div>"
      ],
      "text/plain": [
       "    Area  Perimeter  MajorAxisLength  MinorAxisLength  AspectRation  \\\n",
       "0  44830    814.955       320.731947       178.405838      1.797766   \n",
       "1  33476    691.826       258.837971       165.220760      1.566619   \n",
       "2  27057    606.138       227.460904       151.860320      1.497830   \n",
       "3  49483    844.283       326.602913       194.689529      1.677558   \n",
       "4  22461    544.584       192.801303       148.541136      1.297966   \n",
       "\n",
       "   Eccentricity  ConvexArea  EquivDiameter    Extent  Solidity  roundness  \\\n",
       "0      0.831018       45297     238.912806  0.658877  0.989690   0.848226   \n",
       "1      0.769773       33907     206.453305  0.721155  0.987289   0.878921   \n",
       "2      0.744491       27358     185.607226  0.801831  0.988998   0.925436   \n",
       "3      0.802907       50289     251.005403  0.680179  0.983973   0.872348   \n",
       "4      0.637517       22699     169.110122  0.774731  0.989515   0.951720   \n",
       "\n",
       "   Compactness  ShapeFactor1  ShapeFactor2  ShapeFactor3  ShapeFactor4  \\\n",
       "0     0.744899      0.007154      0.001359      0.554874      0.997534   \n",
       "1     0.797616      0.007732      0.001930      0.636191      0.996669   \n",
       "2     0.815996      0.008407      0.002299      0.665850      0.997330   \n",
       "3     0.768534      0.006600      0.001420      0.590644      0.990840   \n",
       "4     0.877121      0.008584      0.003134      0.769342      0.998579   \n",
       "\n",
       "      Class  \n",
       "0      SIRA  \n",
       "1  DERMASON  \n",
       "2  DERMASON  \n",
       "3      SIRA  \n",
       "4  DERMASON  "
      ]
     },
     "execution_count": 1,
     "metadata": {},
     "output_type": "execute_result"
    }
   ],
   "source": [
    "import numpy as np\n",
    "import pandas as pd\n",
    "from numpy import array\n",
    "from numpy import argmax\n",
    "from sklearn.preprocessing import LabelEncoder\n",
    "from sklearn.preprocessing import OneHotEncoder\n",
    "\n",
    "data = pd.read_csv(\"Dry_Beans_Dataset.csv\")\n",
    "data.head(5)"
   ]
  },
  {
   "cell_type": "code",
   "execution_count": 2,
   "id": "aa618784",
   "metadata": {
    "scrolled": true
   },
   "outputs": [
    {
     "name": "stdout",
     "output_type": "stream",
     "text": [
      "<class 'pandas.core.frame.DataFrame'>\n",
      "RangeIndex: 13611 entries, 0 to 13610\n",
      "Data columns (total 17 columns):\n",
      " #   Column           Non-Null Count  Dtype  \n",
      "---  ------           --------------  -----  \n",
      " 0   Area             13611 non-null  int64  \n",
      " 1   Perimeter        13611 non-null  float64\n",
      " 2   MajorAxisLength  13611 non-null  float64\n",
      " 3   MinorAxisLength  13611 non-null  float64\n",
      " 4   AspectRation     13611 non-null  float64\n",
      " 5   Eccentricity     13611 non-null  float64\n",
      " 6   ConvexArea       13611 non-null  int64  \n",
      " 7   EquivDiameter    13611 non-null  float64\n",
      " 8   Extent           13611 non-null  float64\n",
      " 9   Solidity         13611 non-null  float64\n",
      " 10  roundness        13611 non-null  float64\n",
      " 11  Compactness      13611 non-null  float64\n",
      " 12  ShapeFactor1     13611 non-null  float64\n",
      " 13  ShapeFactor2     13611 non-null  float64\n",
      " 14  ShapeFactor3     13611 non-null  float64\n",
      " 15  ShapeFactor4     13611 non-null  float64\n",
      " 16  Class            13611 non-null  object \n",
      "dtypes: float64(14), int64(2), object(1)\n",
      "memory usage: 1.8+ MB\n"
     ]
    }
   ],
   "source": [
    "data.info()"
   ]
  },
  {
   "cell_type": "code",
   "execution_count": 3,
   "id": "4e0bbb94",
   "metadata": {},
   "outputs": [
    {
     "data": {
      "text/plain": [
       "(13611, 16)"
      ]
     },
     "execution_count": 3,
     "metadata": {},
     "output_type": "execute_result"
    }
   ],
   "source": [
    "#Pull features matrix and target vector from data set\n",
    "x_features = data.drop('Class', axis=1)\n",
    "x_features.shape"
   ]
  },
  {
   "cell_type": "code",
   "execution_count": 4,
   "id": "2afc33d7",
   "metadata": {},
   "outputs": [
    {
     "data": {
      "text/plain": [
       "(13611,)"
      ]
     },
     "execution_count": 4,
     "metadata": {},
     "output_type": "execute_result"
    }
   ],
   "source": [
    "Y = data['Class']\n",
    "Y.shape"
   ]
  },
  {
   "cell_type": "code",
   "execution_count": 5,
   "id": "6b043d4a",
   "metadata": {},
   "outputs": [
    {
     "name": "stdout",
     "output_type": "stream",
     "text": [
      "(13611, 16)\n"
     ]
    }
   ],
   "source": [
    "X_sample = data['Area']\n",
    "X_sample.head(5)\n",
    "\n",
    "#takes an array of values and normalizes those values\n",
    "def min_max_normalization(x):\n",
    "    x_min = min(x)\n",
    "    x_max = max(x)\n",
    "    x = (x - x_min) / (x_max - x_min)\n",
    "    return x\n",
    "\n",
    "#shape gets the number of features in the features matrix\n",
    "# to_numpy() converts the DataFrame into a standard array\n",
    "\n",
    "#Test to perform normalization of a single feature set\n",
    "#X = data['Area'].to_numpy()\n",
    "#print(X)\n",
    "\n",
    "#temp = X.shape[0]\n",
    "#temp\n",
    "\n",
    "#for i in range(X.shape[0]):\n",
    "#    X = min_max_normalization(X)\n",
    "#print(X)\n",
    "X = x_features.to_numpy()\n",
    "\n",
    "x_features.shape\n",
    "for i in range(x_features.shape[1]):\n",
    "    X[:,i] = min_max_normalization(X[:,i])\n",
    "print(X.shape)"
   ]
  },
  {
   "cell_type": "code",
   "execution_count": 6,
   "id": "fe77b823",
   "metadata": {},
   "outputs": [
    {
     "name": "stdout",
     "output_type": "stream",
     "text": [
      "[6 3 3 ... 6 4 6]\n",
      "(13611, 7)\n"
     ]
    }
   ],
   "source": [
    "#One-Hot encoding for the target values\n",
    "def one_hot_encoding(y):\n",
    "    y_values = np.max(y) + 1\n",
    "    return np.eye(y_values)[y]\n",
    "\n",
    "#encode to integers\n",
    "data_encoder = LabelEncoder()\n",
    "data_encoded = data_encoder.fit_transform(Y)\n",
    "print(data_encoded)\n",
    "\n",
    "#binary encoder\n",
    "onehot_encoder = OneHotEncoder(sparse=False)\n",
    "#reshape array\n",
    "data_encoded = data_encoded.reshape(len(data_encoded), 1)\n",
    "onehot_encoded = onehot_encoder.fit_transform(data_encoded)\n",
    "Y_encoded = onehot_encoded\n",
    "\n",
    "print(Y_encoded.shape)"
   ]
  },
  {
   "cell_type": "code",
   "execution_count": 7,
   "id": "14b80147",
   "metadata": {},
   "outputs": [],
   "source": [
    "#Activation function\n",
    "def sigmoid(x):\n",
    "    return 1/(1 + np.exp(-x))"
   ]
  },
  {
   "cell_type": "code",
   "execution_count": 8,
   "id": "dacd2aa6",
   "metadata": {},
   "outputs": [],
   "source": [
    "#Convert features and targets into lists and shuffle\n",
    "import random\n",
    "from random import seed\n",
    "\n",
    "#X = X.tolist() not necessary since X is already a numpy list\n",
    "Y = Y_encoded.tolist()\n",
    "\n",
    "#shuffle\n",
    "X = list(zip(X,Y))\n",
    "random.shuffle(X)\n",
    "X, Y = zip(*X)\n",
    "\n",
    "Y = list(Y)"
   ]
  },
  {
   "cell_type": "code",
   "execution_count": 20,
   "id": "8b8e57e4",
   "metadata": {
    "scrolled": false
   },
   "outputs": [],
   "source": [
    "#Split the data\n",
    "from sklearn.preprocessing import MinMaxScaler\n",
    "from sklearn.model_selection import train_test_split\n",
    "\n",
    "Xtrain, Xtest, ytrain, ytest = train_test_split(X,Y,random_state=1, test_size = 0.1)\n",
    "\n",
    "Xtrain = np.array(Xtrain)\n",
    "Xtest = np.array(Xtest)\n",
    "ytrain = np.array(ytrain)\n",
    "ytest = np.array(ytest)"
   ]
  },
  {
   "cell_type": "code",
   "execution_count": 11,
   "id": "4807e7bc",
   "metadata": {},
   "outputs": [],
   "source": [
    "#Build the classification model\n",
    "from sklearn.neural_network import MLPClassifier\n",
    "#x_test = [X[0], X[1]]\n",
    "#y_test = Y[0]\n",
    "#clf = MLPClassifier(solver='lbfgs', alpha=1e-5,\n",
    "#                   hidden_layer_sizes=(5,2), random_state=1)\n",
    "\n",
    "#clf.fit(x_test, y_test)"
   ]
  },
  {
   "cell_type": "code",
   "execution_count": 51,
   "id": "2b0d9b67",
   "metadata": {
    "scrolled": false
   },
   "outputs": [],
   "source": [
    "#Build a classification model from Keras\n",
    "from tensorflow.keras.models import Sequential\n",
    "from tensorflow.keras.layers import Dense\n",
    "\n",
    "#def custom_model(input_dim, output_dim, nodes, layers, name='model'):\n",
    "#    def create_model():\n",
    "#        #creates the model\n",
    "#        model = Sequential(name=name)\n",
    "#        \n",
    "#        for i in range(layers):\n",
    "#            model.add(Dense(nodes, input_dim=input_dim, activation='sigmoid'))\n",
    "#        model.add(Dense(output_dim, activiation='sigmoid'))\n",
    "        \n",
    "        #compile model\n",
    "#        model.compile(loss='categorical_crossentropy',\n",
    "#                     optimizer='sgd',\n",
    "#                     metrics=['accuracy'])\n",
    "#        return model\n",
    "#    return create_model\n",
    "\n",
    "model = Sequential()\n",
    "model.add(Dense(12, input_dim=16, activation='sigmoid')) #input layer + 1st hidden layer\n",
    "model.add(Dense(12, activation='sigmoid'))\n",
    "model.add(Dense(12, activation='sigmoid'))\n",
    "model.add(Dense(7, activation='sigmoid'))\n"
   ]
  },
  {
   "cell_type": "code",
   "execution_count": 34,
   "id": "9f2e156c",
   "metadata": {},
   "outputs": [
    {
     "name": "stdout",
     "output_type": "stream",
     "text": [
      "(12249, 16)\n",
      "(12249, 7)\n"
     ]
    }
   ],
   "source": [
    "print(Xtrain.shape)\n",
    "print(ytrain.shape)"
   ]
  },
  {
   "cell_type": "code",
   "execution_count": 53,
   "id": "e394d456",
   "metadata": {
    "scrolled": true
   },
   "outputs": [
    {
     "data": {
      "text/plain": [
       "<tensorflow.python.keras.callbacks.History at 0x2def7558d60>"
      ]
     },
     "execution_count": 53,
     "metadata": {},
     "output_type": "execute_result"
    }
   ],
   "source": [
    "#compile Keras model\n",
    "from tensorflow import keras\n",
    "from tensorflow.keras import layers\n",
    "\n",
    "sgd = keras.optimizers.SGD(learning_rate=0.3)\n",
    "model.compile(loss='categorical_crossentropy',\n",
    "                optimizer='sgd',\n",
    "             metrics=['accuracy'])\n",
    "#fit the Keras model to the training data\n",
    "model.fit(Xtrain, ytrain, epochs=500,verbose=0)"
   ]
  },
  {
   "cell_type": "code",
   "execution_count": 54,
   "id": "c7531a47",
   "metadata": {},
   "outputs": [
    {
     "name": "stdout",
     "output_type": "stream",
     "text": [
      "Test Accuracy: 33.46\n"
     ]
    }
   ],
   "source": [
    "#evaluate model performance\n",
    "score = model.evaluate(Xtest, ytest, verbose=0)\n",
    "print('Test Accuracy: %.2f' % (score[0]*100))"
   ]
  },
  {
   "cell_type": "code",
   "execution_count": null,
   "id": "58eb5de5",
   "metadata": {},
   "outputs": [],
   "source": []
  }
 ],
 "metadata": {
  "kernelspec": {
   "display_name": "Python 3",
   "language": "python",
   "name": "python3"
  },
  "language_info": {
   "codemirror_mode": {
    "name": "ipython",
    "version": 3
   },
   "file_extension": ".py",
   "mimetype": "text/x-python",
   "name": "python",
   "nbconvert_exporter": "python",
   "pygments_lexer": "ipython3",
   "version": "3.8.8"
  }
 },
 "nbformat": 4,
 "nbformat_minor": 5
}
